{
 "cells": [
  {
   "cell_type": "markdown",
   "metadata": {},
   "source": [
    "# "
   ]
  },
  {
   "cell_type": "code",
   "execution_count": 227,
   "metadata": {},
   "outputs": [],
   "source": [
    "import pandas as pd\n",
    "import statsmodels.api as sm\n",
    "from statsmodels.formula.api import ols\n",
    "import numpy as np\n",
    "from matplotlib import pyplot as plt\n",
    "\n",
    "from scipy.stats import t\n",
    "\n",
    "%matplotlib inline"
   ]
  },
  {
   "cell_type": "code",
   "execution_count": 230,
   "metadata": {},
   "outputs": [
    {
     "data": {
      "text/plain": [
       "<matplotlib.axes._subplots.AxesSubplot at 0x1c24e33950>"
      ]
     },
     "execution_count": 230,
     "metadata": {},
     "output_type": "execute_result"
    },
    {
     "data": {
      "image/png": "[encoded data removed]",
      "text/plain": [
       "<Figure size 432x288 with 1 Axes>"
      ]
     },
     "metadata": {
      "needs_background": "light"
     },
     "output_type": "display_data"
    }
   ],
   "source": [
    "gdp_pcv = pd.DataFrame(\n",
    "    {\n",
    "        'gdp': [7.90, 7.92, 7.91, 7.96, 7.98, 8.01, 8.05, 8.06, 8.06, 8.07, 8.09, 8.11, 8.14, 8.17, 8.19, 8.23, 8.27, 8.29, 8.30], \n",
    "        'pcv': [8.45, 8.52, 8.25, 8.58, 8.58, 8.63, 8.74, 8.70, 8.61, 8.59, 8.77, 8.80, 8.79, 8.83, 8.91, 8.97, 8.97, 9.04, 9.05]\n",
    "    }\n",
    "    )\n",
    "\n",
    "X = gdp_pcv['gdp']\n",
    "X_pred = np.linspace(X.min(), X.max(), 50)\n",
    "\n",
    "X = sm.add_constant(X)\n",
    "X_pred = sm.add_constant(X_pred)\n",
    "\n",
    "y = gdp_pcv['pcv']\n",
    "\n",
    "gdp_pcv = sm.add_constant(gdp_pcv)\n",
    "\n",
    "gdp_pcv.plot.scatter('gdp','pcv')"
   ]
  },
  {
   "cell_type": "code",
   "execution_count": 231,
   "metadata": {},
   "outputs": [
    {
     "name": "stdout",
     "output_type": "stream",
     "text": [
      "                            OLS Regression Results                            \n",
      "==============================================================================\n",
      "Dep. Variable:                    pcv   R-squared:                       0.906\n",
      "Model:                            OLS   Adj. R-squared:                  0.901\n",
      "Method:                 Least Squares   F-statistic:                     164.4\n",
      "Date:                Sun, 07 Mar 2021   Prob (F-statistic):           3.64e-10\n",
      "Time:                        15:22:32   Log-Likelihood:                 25.519\n",
      "No. Observations:                  19   AIC:                            -47.04\n",
      "Df Residuals:                      17   BIC:                            -45.15\n",
      "Df Model:                           1                                         \n",
      "Covariance Type:            nonrobust                                         \n",
      "==============================================================================\n",
      "                 coef    std err          t      P>|t|      [0.025      0.975]\n",
      "------------------------------------------------------------------------------\n",
      "Intercept     -4.0913      1.000     -4.092      0.001      -6.201      -1.982\n",
      "gdp            1.5842      0.124     12.820      0.000       1.324       1.845\n",
      "==============================================================================\n",
      "Omnibus:                       12.745   Durbin-Watson:                   2.347\n",
      "Prob(Omnibus):                  0.002   Jarque-Bera (JB):               10.299\n",
      "Skew:                          -1.488   Prob(JB):                      0.00580\n",
      "Kurtosis:                       5.037   Cond. No.                         536.\n",
      "==============================================================================\n",
      "\n",
      "Notes:\n",
      "[1] Standard Errors assume that the covariance matrix of the errors is correctly specified.\n"
     ]
    },
    {
     "name": "stderr",
     "output_type": "stream",
     "text": [
      "/opt/miniconda3/lib/python3.7/site-packages/scipy/stats/stats.py:1450: UserWarning: kurtosistest only valid for n>=20 ... continuing anyway, n=19\n",
      "  \"anyway, n=%i\" % int(n))\n"
     ]
    }
   ],
   "source": [
    "results = ols('pcv ~ gdp', data=gdp_pcv).fit()\n",
    "\n",
    "print(results.summary())"
   ]
  },
  {
   "cell_type": "code",
   "execution_count": 217,
   "metadata": {},
   "outputs": [
    {
     "name": "stderr",
     "output_type": "stream",
     "text": [
      "/opt/miniconda3/lib/python3.7/site-packages/matplotlib/cbook/__init__.py:1402: FutureWarning: Support for multi-dimensional indexing (e.g. `obj[:, None]`) is deprecated and will be removed in a future version.  Convert to a numpy array before indexing instead.\n",
      "  x[:, None]\n",
      "/opt/miniconda3/lib/python3.7/site-packages/matplotlib/axes/_base.py:276: FutureWarning: Support for multi-dimensional indexing (e.g. `obj[:, None]`) is deprecated and will be removed in a future version.  Convert to a numpy array before indexing instead.\n",
      "  x = x[:, np.newaxis]\n",
      "/opt/miniconda3/lib/python3.7/site-packages/matplotlib/axes/_base.py:278: FutureWarning: Support for multi-dimensional indexing (e.g. `obj[:, None]`) is deprecated and will be removed in a future version.  Convert to a numpy array before indexing instead.\n",
      "  y = y[:, np.newaxis]\n"
     ]
    },
    {
     "data": {
      "text/plain": [
       "[<matplotlib.lines.Line2D at 0x1c24af5210>]"
      ]
     },
     "execution_count": 217,
     "metadata": {},
     "output_type": "execute_result"
    },
    {
     "data": {
      "image/png": "[encoded data removed]",
      "text/plain": [
       "<Figure size 432x288 with 1 Axes>"
      ]
     },
     "metadata": {
      "needs_background": "light"
     },
     "output_type": "display_data"
    }
   ],
   "source": [
    "gdp_pcv.plot.scatter('gdp','pcv')\n",
    "\n",
    "y_pred = results.predict(gdp_pcv[['gdp','const']])\n",
    "\n",
    "plt.plot(gdp_pcv['gdp'], y_pred, color='red')"
   ]
  },
  {
   "cell_type": "code",
   "execution_count": 218,
   "metadata": {},
   "outputs": [
    {
     "data": {
      "text/plain": [
       "[<matplotlib.lines.Line2D at 0x1c24bede50>]"
      ]
     },
     "execution_count": 218,
     "metadata": {},
     "output_type": "execute_result"
    },
    {
     "data": {
      "image/png": "[encoded data removed]",
      "text/plain": [
       "<Figure size 432x288 with 1 Axes>"
      ]
     },
     "metadata": {
      "needs_background": "light"
     },
     "output_type": "display_data"
    }
   ],
   "source": [
    "plt.plot(X['gdp'], results.resid, linestyle='', marker='.')"
   ]
  },
  {
   "cell_type": "code",
   "execution_count": 219,
   "metadata": {},
   "outputs": [
    {
     "data": {
      "text/plain": [
       "164.36189511727983"
      ]
     },
     "execution_count": 219,
     "metadata": {},
     "output_type": "execute_result"
    }
   ],
   "source": [
    "results.mse_model/results.mse_resid"
   ]
  },
  {
   "cell_type": "code",
   "execution_count": 220,
   "metadata": {},
   "outputs": [
    {
     "name": "stdout",
     "output_type": "stream",
     "text": [
      "            df    sum_sq   mean_sq           F        PR(>F)\n",
      "gdp        1.0  0.732872  0.732872  164.361895  3.635325e-10\n",
      "Residual  17.0  0.075801  0.004459         NaN           NaN\n"
     ]
    }
   ],
   "source": [
    "table = sm.stats.anova_lm(results) # Type 2 ANOVA DataFrame\n",
    "print(table)"
   ]
  },
  {
   "cell_type": "code",
   "execution_count": 221,
   "metadata": {},
   "outputs": [
    {
     "data": {
      "text/plain": [
       "164.3579277864992"
      ]
     },
     "execution_count": 221,
     "metadata": {},
     "output_type": "execute_result"
    }
   ],
   "source": [
    "0.732872/0.004459"
   ]
  },
  {
   "cell_type": "code",
   "execution_count": 222,
   "metadata": {},
   "outputs": [
    {
     "data": {
      "text/plain": [
       "Intercept    -4.092029\n",
       "gdp          12.820370\n",
       "dtype: float64"
      ]
     },
     "execution_count": 222,
     "metadata": {},
     "output_type": "execute_result"
    }
   ],
   "source": [
    "results.tvalues"
   ]
  },
  {
   "cell_type": "code",
   "execution_count": 223,
   "metadata": {},
   "outputs": [
    {
     "data": {
      "text/plain": [
       "(-13.820370319038345, 13.820370319038345)"
      ]
     },
     "execution_count": 223,
     "metadata": {},
     "output_type": "execute_result"
    },
    {
     "data": {
      "image/png": "[encoded data removed]",
      "text/plain": [
       "<Figure size 432x288 with 1 Axes>"
      ]
     },
     "metadata": {
      "needs_background": "light"
     },
     "output_type": "display_data"
    }
   ],
   "source": [
    "df = 2\n",
    "\n",
    "x = np.linspace(-r-1,\n",
    "                r+1, 100)\n",
    "plt.plot(x, t.pdf(x, df),\n",
    "       'r-', label='t pdf')\n",
    "\n",
    "y_min, y_max = plt.ylim()\n",
    "\n",
    "plt.vlines(results.tvalues, 0, y_max)\n",
    "\n",
    "plt.ylim(0, y_max)\n",
    "\n",
    "r = abs(results.tvalues).max()\n",
    "plt.xlim(-r-1, r+1)"
   ]
  },
  {
   "cell_type": "code",
   "execution_count": 224,
   "metadata": {},
   "outputs": [],
   "source": [
    "fitted_data = gdp_pcv.copy()\n",
    "fitted_data['fittedvalues'] = results.fittedvalues"
   ]
  },
  {
   "cell_type": "code",
   "execution_count": 225,
   "metadata": {},
   "outputs": [],
   "source": [
    "fitted_data['$\\left(\\hat{Y}_i - Y_i\\right)^2$'] = (fitted_data['pcv'] - fitted_data['fittedvalues'])**2\n",
    "\n",
    "fitted_data['$\\left(\\hat{Y}_i - Y_i\\right)^2$'] = (fitted_data['pcv'] - fitted_data['fittedvalues'])**2"
   ]
  },
  {
   "cell_type": "code",
   "execution_count": 226,
   "metadata": {},
   "outputs": [
    {
     "data": {
      "text/html": [
       "<div>\n",
       "<style scoped>\n",
       "    .dataframe tbody tr th:only-of-type {\n",
       "        vertical-align: middle;\n",
       "    }\n",
       "\n",
       "    .dataframe tbody tr th {\n",
       "        vertical-align: top;\n",
       "    }\n",
       "\n",
       "    .dataframe thead th {\n",
       "        text-align: right;\n",
       "    }\n",
       "</style>\n",
       "<table border=\"1\" class=\"dataframe\">\n",
       "  <thead>\n",
       "    <tr style=\"text-align: right;\">\n",
       "      <th></th>\n",
       "      <th>const</th>\n",
       "      <th>gdp</th>\n",
       "      <th>pcv</th>\n",
       "      <th>fittedvalues</th>\n",
       "      <th>$\\left(\\hat{Y}_i - Y_i\\right)^2$</th>\n",
       "    </tr>\n",
       "  </thead>\n",
       "  <tbody>\n",
       "    <tr>\n",
       "      <th>0</th>\n",
       "      <td>1.0</td>\n",
       "      <td>7.90</td>\n",
       "      <td>8.45</td>\n",
       "      <td>8.424256</td>\n",
       "      <td>0.000663</td>\n",
       "    </tr>\n",
       "    <tr>\n",
       "      <th>1</th>\n",
       "      <td>1.0</td>\n",
       "      <td>7.92</td>\n",
       "      <td>8.52</td>\n",
       "      <td>8.455941</td>\n",
       "      <td>0.004104</td>\n",
       "    </tr>\n",
       "    <tr>\n",
       "      <th>2</th>\n",
       "      <td>1.0</td>\n",
       "      <td>7.91</td>\n",
       "      <td>8.25</td>\n",
       "      <td>8.440099</td>\n",
       "      <td>0.036138</td>\n",
       "    </tr>\n",
       "    <tr>\n",
       "      <th>3</th>\n",
       "      <td>1.0</td>\n",
       "      <td>7.96</td>\n",
       "      <td>8.58</td>\n",
       "      <td>8.519311</td>\n",
       "      <td>0.003683</td>\n",
       "    </tr>\n",
       "    <tr>\n",
       "      <th>4</th>\n",
       "      <td>1.0</td>\n",
       "      <td>7.98</td>\n",
       "      <td>8.58</td>\n",
       "      <td>8.550996</td>\n",
       "      <td>0.000841</td>\n",
       "    </tr>\n",
       "  </tbody>\n",
       "</table>\n",
       "</div>"
      ],
      "text/plain": [
       "   const   gdp   pcv  fittedvalues  $\\left(\\hat{Y}_i - Y_i\\right)^2$\n",
       "0    1.0  7.90  8.45      8.424256                          0.000663\n",
       "1    1.0  7.92  8.52      8.455941                          0.004104\n",
       "2    1.0  7.91  8.25      8.440099                          0.036138\n",
       "3    1.0  7.96  8.58      8.519311                          0.003683\n",
       "4    1.0  7.98  8.58      8.550996                          0.000841"
      ]
     },
     "execution_count": 226,
     "metadata": {},
     "output_type": "execute_result"
    }
   ],
   "source": [
    "fitted_data.head()"
   ]
  },
  {
   "cell_type": "code",
   "execution_count": null,
   "metadata": {},
   "outputs": [],
   "source": []
  }
 ],
 "metadata": {
  "kernelspec": {
   "display_name": "Python 3",
   "language": "python",
   "name": "python3"
  },
  "language_info": {
   "codemirror_mode": {
    "name": "ipython",
    "version": 3
   },
   "file_extension": ".py",
   "mimetype": "text/x-python",
   "name": "python",
   "nbconvert_exporter": "python",
   "pygments_lexer": "ipython3",
   "version": "3.7.4"
  }
 },
 "nbformat": 4,
 "nbformat_minor": 4
}
