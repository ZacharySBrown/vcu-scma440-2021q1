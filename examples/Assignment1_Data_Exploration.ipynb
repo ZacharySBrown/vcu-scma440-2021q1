{
  "nbformat": 4,
  "nbformat_minor": 0,
  "metadata": {
    "kernelspec": {
      "display_name": "Python 3",
      "language": "python",
      "name": "python3"
    },
    "language_info": {
      "codemirror_mode": {
        "name": "ipython",
        "version": 3
      },
      "file_extension": ".py",
      "mimetype": "text/x-python",
      "name": "python",
      "nbconvert_exporter": "python",
      "pygments_lexer": "ipython3",
      "version": "3.7.4"
    },
    "colab": {
      "name": "Assignment1.ipynb",
      "provenance": [],
      "include_colab_link": true
    }
  },
  "cells": [
    {
      "cell_type": "markdown",
      "metadata": {
        "id": "view-in-github",
        "colab_type": "text"
      },
      "source": [
        "<a href=\"https://colab.research.google.com/github/ZacharySBrown/vcu-scma440-2021q1/blob/master/examples/Assignment1_Data_Exploration.ipynb\" target=\"_parent\"><img src=\"https://colab.research.google.com/assets/colab-badge.svg\" alt=\"Open In Colab\"/></a>"
      ]
    },
    {
      "cell_type": "markdown",
      "metadata": {
        "id": "yRLkmToSFBOI"
      },
      "source": [
        "# Setup and Fetch Data\n",
        "\n",
        "Press the play button in Google Colab or press `Shift+Enter` execute the cell below to download and load the data and packages for this assignment\n",
        "\n",
        "This will load two `pandas` `DataFrame` objects, one called `data` that has a single column for each year of the data, and another called `time_series` that contains a single column called `production` that contains the time series for Japanese automobile production over time. "
      ]
    },
    {
      "cell_type": "code",
      "metadata": {
        "colab": {
          "base_uri": "https://localhost:8080/"
        },
        "id": "xfmf4GMbFBOK",
        "outputId": "3db3bfac-ac0d-460c-8c0b-4c0af1525de2"
      },
      "source": [
        "import pandas as pd\n",
        "from numpy import log, abs, mean, exp\n",
        "from IPython.display import display\n",
        "from matplotlib import pyplot as plt\n",
        "%matplotlib inline\n",
        "\n",
        "!curl https://raw.githubusercontent.com/ZacharySBrown/vcu-scma440-2021q1/master/utils/fetch_a1.sh > fetch_a1.sh\n",
        "!bash fetch_a1.sh\n",
        "\n",
        "# Example\n",
        "time_series = pd.read_csv('japanese_auto_production.csv', parse_dates=['year']).set_index('year')\n",
        "\n",
        "data = pd.read_csv('a1_beer_data.csv').set_index('month')\n",
        "\n",
        "data.columns = [str(i) for i in data.columns]"
      ],
      "execution_count": 1,
      "outputs": [
        {
          "output_type": "stream",
          "text": [
            "  % Total    % Received % Xferd  Average Speed   Time    Time     Time  Current\n",
            "                                 Dload  Upload   Total   Spent    Left  Speed\n",
            "100   317  100   317    0     0   2663      0 --:--:-- --:--:-- --:--:--  2663\n",
            "  % Total    % Received % Xferd  Average Speed   Time    Time     Time  Current\n",
            "                                 Dload  Upload   Total   Spent    Left  Speed\n",
            "100  8004  100  8004    0     0  56366      0 --:--:-- --:--:-- --:--:-- 56366\n",
            "  % Total    % Received % Xferd  Average Speed   Time    Time     Time  Current\n",
            "                                 Dload  Upload   Total   Spent    Left  Speed\n",
            "100  3064  100  3064    0     0  33670      0 --:--:-- --:--:-- --:--:-- 33670\n",
            "  % Total    % Received % Xferd  Average Speed   Time    Time     Time  Current\n",
            "                                 Dload  Upload   Total   Spent    Left  Speed\n",
            "100   689  100   689    0     0   5425      0 --:--:-- --:--:-- --:--:--  5425\n"
          ],
          "name": "stdout"
        }
      ]
    },
    {
      "cell_type": "markdown",
      "metadata": {
        "id": "pGaf0w2sFBOL"
      },
      "source": [
        "# Exploring and Plotting Data\n"
      ]
    },
    {
      "cell_type": "markdown",
      "metadata": {
        "id": "1chOQuCCFBOM"
      },
      "source": [
        "### Inspecting the data\n",
        "\n",
        "Let's start by printing out the data. The `data` variable is called a `DataFrame`, which is a table-like data structure with rows and columns. In this case, we have a row for each month and a columns for each year of observations. \n",
        "\n",
        "Notice the `NaN` (\"Not a number\") values, or data for which we don't have observations.\n",
        "\n",
        "Note that you may have to scroll to the right (over the table output) to see more years.\n",
        "\n",
        "*Press the play button in Google Colab or press `Shift+Enter` execute the cell below*"
      ]
    },
    {
      "cell_type": "code",
      "metadata": {
        "colab": {
          "base_uri": "https://localhost:8080/",
          "height": 0
        },
        "id": "UOo3pWMPFBON",
        "outputId": "385baba3-f605-400e-e55b-b88b54ef8f12"
      },
      "source": [
        "display(data)"
      ],
      "execution_count": 2,
      "outputs": [
        {
          "output_type": "display_data",
          "data": {
            "text/html": [
              "<div>\n",
              "<style scoped>\n",
              "    .dataframe tbody tr th:only-of-type {\n",
              "        vertical-align: middle;\n",
              "    }\n",
              "\n",
              "    .dataframe tbody tr th {\n",
              "        vertical-align: top;\n",
              "    }\n",
              "\n",
              "    .dataframe thead th {\n",
              "        text-align: right;\n",
              "    }\n",
              "</style>\n",
              "<table border=\"1\" class=\"dataframe\">\n",
              "  <thead>\n",
              "    <tr style=\"text-align: right;\">\n",
              "      <th></th>\n",
              "      <th>1950</th>\n",
              "      <th>1951</th>\n",
              "      <th>1952</th>\n",
              "      <th>1953</th>\n",
              "      <th>1954</th>\n",
              "      <th>1955</th>\n",
              "      <th>1956</th>\n",
              "      <th>1957</th>\n",
              "      <th>1958</th>\n",
              "      <th>1959</th>\n",
              "      <th>1960</th>\n",
              "      <th>1961</th>\n",
              "      <th>1962</th>\n",
              "      <th>1963</th>\n",
              "      <th>1964</th>\n",
              "      <th>1965</th>\n",
              "      <th>1966</th>\n",
              "      <th>1967</th>\n",
              "      <th>1968</th>\n",
              "      <th>1969</th>\n",
              "      <th>1970</th>\n",
              "      <th>1971</th>\n",
              "      <th>1972</th>\n",
              "      <th>1973</th>\n",
              "      <th>1974</th>\n",
              "      <th>1975</th>\n",
              "      <th>1976</th>\n",
              "      <th>1977</th>\n",
              "      <th>1978</th>\n",
              "      <th>1979</th>\n",
              "      <th>1980</th>\n",
              "      <th>1981</th>\n",
              "      <th>1982</th>\n",
              "      <th>1983</th>\n",
              "      <th>1984</th>\n",
              "      <th>1985</th>\n",
              "      <th>1986</th>\n",
              "      <th>1987</th>\n",
              "      <th>1988</th>\n",
              "      <th>1989</th>\n",
              "    </tr>\n",
              "    <tr>\n",
              "      <th>month</th>\n",
              "      <th></th>\n",
              "      <th></th>\n",
              "      <th></th>\n",
              "      <th></th>\n",
              "      <th></th>\n",
              "      <th></th>\n",
              "      <th></th>\n",
              "      <th></th>\n",
              "      <th></th>\n",
              "      <th></th>\n",
              "      <th></th>\n",
              "      <th></th>\n",
              "      <th></th>\n",
              "      <th></th>\n",
              "      <th></th>\n",
              "      <th></th>\n",
              "      <th></th>\n",
              "      <th></th>\n",
              "      <th></th>\n",
              "      <th></th>\n",
              "      <th></th>\n",
              "      <th></th>\n",
              "      <th></th>\n",
              "      <th></th>\n",
              "      <th></th>\n",
              "      <th></th>\n",
              "      <th></th>\n",
              "      <th></th>\n",
              "      <th></th>\n",
              "      <th></th>\n",
              "      <th></th>\n",
              "      <th></th>\n",
              "      <th></th>\n",
              "      <th></th>\n",
              "      <th></th>\n",
              "      <th></th>\n",
              "      <th></th>\n",
              "      <th></th>\n",
              "      <th></th>\n",
              "      <th></th>\n",
              "    </tr>\n",
              "  </thead>\n",
              "  <tbody>\n",
              "    <tr>\n",
              "      <th>January</th>\n",
              "      <td>93.2</td>\n",
              "      <td>95.9</td>\n",
              "      <td>96.3</td>\n",
              "      <td>89.8</td>\n",
              "      <td>97.1</td>\n",
              "      <td>105.1</td>\n",
              "      <td>100.0</td>\n",
              "      <td>106.0</td>\n",
              "      <td>106.1</td>\n",
              "      <td>106.9</td>\n",
              "      <td>104.6</td>\n",
              "      <td>116.4</td>\n",
              "      <td>131.5</td>\n",
              "      <td>131.2</td>\n",
              "      <td>126.9</td>\n",
              "      <td>132.6</td>\n",
              "      <td>128.1</td>\n",
              "      <td>153.1</td>\n",
              "      <td>164.1</td>\n",
              "      <td>161.4</td>\n",
              "      <td>182.7</td>\n",
              "      <td>159.8</td>\n",
              "      <td>170.7</td>\n",
              "      <td>173.7</td>\n",
              "      <td>170.0</td>\n",
              "      <td>203.6</td>\n",
              "      <td>159.4</td>\n",
              "      <td>141.6</td>\n",
              "      <td>151.5</td>\n",
              "      <td>166.5</td>\n",
              "      <td>161.2</td>\n",
              "      <td>177.2</td>\n",
              "      <td>154.1</td>\n",
              "      <td>153.3</td>\n",
              "      <td>172.0</td>\n",
              "      <td>164.4</td>\n",
              "      <td>147.0</td>\n",
              "      <td>139.0</td>\n",
              "      <td>151.0</td>\n",
              "      <td>138.0</td>\n",
              "    </tr>\n",
              "    <tr>\n",
              "      <th>February</th>\n",
              "      <td>96.0</td>\n",
              "      <td>82.8</td>\n",
              "      <td>84.4</td>\n",
              "      <td>84.4</td>\n",
              "      <td>93.0</td>\n",
              "      <td>92.5</td>\n",
              "      <td>84.8</td>\n",
              "      <td>91.2</td>\n",
              "      <td>102.1</td>\n",
              "      <td>96.6</td>\n",
              "      <td>107.1</td>\n",
              "      <td>112.6</td>\n",
              "      <td>131.0</td>\n",
              "      <td>125.4</td>\n",
              "      <td>124.0</td>\n",
              "      <td>123.7</td>\n",
              "      <td>138.4</td>\n",
              "      <td>147.6</td>\n",
              "      <td>142.8</td>\n",
              "      <td>169.4</td>\n",
              "      <td>145.2</td>\n",
              "      <td>157.8</td>\n",
              "      <td>164.4</td>\n",
              "      <td>153.8</td>\n",
              "      <td>158.4</td>\n",
              "      <td>175.2</td>\n",
              "      <td>161.1</td>\n",
              "      <td>148.1</td>\n",
              "      <td>158.1</td>\n",
              "      <td>151.3</td>\n",
              "      <td>155.5</td>\n",
              "      <td>127.4</td>\n",
              "      <td>159.3</td>\n",
              "      <td>144.3</td>\n",
              "      <td>150.6</td>\n",
              "      <td>148.1</td>\n",
              "      <td>133.0</td>\n",
              "      <td>143.0</td>\n",
              "      <td>134.0</td>\n",
              "      <td>136.0</td>\n",
              "    </tr>\n",
              "    <tr>\n",
              "      <th>March</th>\n",
              "      <td>95.2</td>\n",
              "      <td>83.3</td>\n",
              "      <td>91.2</td>\n",
              "      <td>87.2</td>\n",
              "      <td>96.0</td>\n",
              "      <td>97.1</td>\n",
              "      <td>94.3</td>\n",
              "      <td>96.6</td>\n",
              "      <td>105.2</td>\n",
              "      <td>127.3</td>\n",
              "      <td>123.5</td>\n",
              "      <td>123.8</td>\n",
              "      <td>130.5</td>\n",
              "      <td>126.5</td>\n",
              "      <td>135.7</td>\n",
              "      <td>153.3</td>\n",
              "      <td>152.7</td>\n",
              "      <td>157.7</td>\n",
              "      <td>157.9</td>\n",
              "      <td>168.8</td>\n",
              "      <td>182.1</td>\n",
              "      <td>168.2</td>\n",
              "      <td>179.7</td>\n",
              "      <td>175.6</td>\n",
              "      <td>176.1</td>\n",
              "      <td>168.7</td>\n",
              "      <td>172.1</td>\n",
              "      <td>184.9</td>\n",
              "      <td>143.0</td>\n",
              "      <td>146.2</td>\n",
              "      <td>141.9</td>\n",
              "      <td>177.1</td>\n",
              "      <td>160.4</td>\n",
              "      <td>169.6</td>\n",
              "      <td>163.3</td>\n",
              "      <td>152.0</td>\n",
              "      <td>163.0</td>\n",
              "      <td>150.0</td>\n",
              "      <td>164.0</td>\n",
              "      <td>152.0</td>\n",
              "    </tr>\n",
              "    <tr>\n",
              "      <th>April</th>\n",
              "      <td>77.1</td>\n",
              "      <td>80.0</td>\n",
              "      <td>81.9</td>\n",
              "      <td>85.6</td>\n",
              "      <td>80.5</td>\n",
              "      <td>81.4</td>\n",
              "      <td>87.1</td>\n",
              "      <td>96.3</td>\n",
              "      <td>101.0</td>\n",
              "      <td>98.2</td>\n",
              "      <td>98.8</td>\n",
              "      <td>103.6</td>\n",
              "      <td>118.9</td>\n",
              "      <td>119.4</td>\n",
              "      <td>130.0</td>\n",
              "      <td>134.0</td>\n",
              "      <td>120.0</td>\n",
              "      <td>137.2</td>\n",
              "      <td>159.2</td>\n",
              "      <td>158.1</td>\n",
              "      <td>158.7</td>\n",
              "      <td>158.4</td>\n",
              "      <td>157.0</td>\n",
              "      <td>147.1</td>\n",
              "      <td>156.2</td>\n",
              "      <td>155.9</td>\n",
              "      <td>158.4</td>\n",
              "      <td>132.5</td>\n",
              "      <td>151.2</td>\n",
              "      <td>148.3</td>\n",
              "      <td>164.6</td>\n",
              "      <td>154.4</td>\n",
              "      <td>151.9</td>\n",
              "      <td>143.7</td>\n",
              "      <td>153.7</td>\n",
              "      <td>144.1</td>\n",
              "      <td>150.0</td>\n",
              "      <td>154.0</td>\n",
              "      <td>126.0</td>\n",
              "      <td>127.0</td>\n",
              "    </tr>\n",
              "    <tr>\n",
              "      <th>May</th>\n",
              "      <td>70.9</td>\n",
              "      <td>80.4</td>\n",
              "      <td>80.5</td>\n",
              "      <td>72.0</td>\n",
              "      <td>76.1</td>\n",
              "      <td>79.1</td>\n",
              "      <td>90.3</td>\n",
              "      <td>88.2</td>\n",
              "      <td>84.3</td>\n",
              "      <td>100.2</td>\n",
              "      <td>98.6</td>\n",
              "      <td>113.9</td>\n",
              "      <td>114.3</td>\n",
              "      <td>113.5</td>\n",
              "      <td>109.4</td>\n",
              "      <td>119.6</td>\n",
              "      <td>140.5</td>\n",
              "      <td>151.5</td>\n",
              "      <td>162.2</td>\n",
              "      <td>158.5</td>\n",
              "      <td>141.6</td>\n",
              "      <td>152.0</td>\n",
              "      <td>168.0</td>\n",
              "      <td>160.3</td>\n",
              "      <td>153.2</td>\n",
              "      <td>147.3</td>\n",
              "      <td>114.6</td>\n",
              "      <td>137.3</td>\n",
              "      <td>147.6</td>\n",
              "      <td>144.7</td>\n",
              "      <td>136.2</td>\n",
              "      <td>135.2</td>\n",
              "      <td>148.4</td>\n",
              "      <td>160.1</td>\n",
              "      <td>152.9</td>\n",
              "      <td>155.0</td>\n",
              "      <td>129.0</td>\n",
              "      <td>137.0</td>\n",
              "      <td>131.0</td>\n",
              "      <td>151.0</td>\n",
              "    </tr>\n",
              "    <tr>\n",
              "      <th>June</th>\n",
              "      <td>64.8</td>\n",
              "      <td>67.5</td>\n",
              "      <td>70.4</td>\n",
              "      <td>69.2</td>\n",
              "      <td>69.9</td>\n",
              "      <td>72.1</td>\n",
              "      <td>72.4</td>\n",
              "      <td>70.2</td>\n",
              "      <td>87.5</td>\n",
              "      <td>89.4</td>\n",
              "      <td>90.6</td>\n",
              "      <td>98.6</td>\n",
              "      <td>85.7</td>\n",
              "      <td>98.7</td>\n",
              "      <td>117.8</td>\n",
              "      <td>116.2</td>\n",
              "      <td>116.2</td>\n",
              "      <td>98.7</td>\n",
              "      <td>123.1</td>\n",
              "      <td>135.3</td>\n",
              "      <td>132.6</td>\n",
              "      <td>142.2</td>\n",
              "      <td>139.3</td>\n",
              "      <td>135.2</td>\n",
              "      <td>117.9</td>\n",
              "      <td>137.0</td>\n",
              "      <td>159.6</td>\n",
              "      <td>135.5</td>\n",
              "      <td>130.7</td>\n",
              "      <td>123.6</td>\n",
              "      <td>126.8</td>\n",
              "      <td>126.4</td>\n",
              "      <td>139.6</td>\n",
              "      <td>135.6</td>\n",
              "      <td>135.5</td>\n",
              "      <td>124.5</td>\n",
              "      <td>131.0</td>\n",
              "      <td>129.0</td>\n",
              "      <td>125.0</td>\n",
              "      <td>130.0</td>\n",
              "    </tr>\n",
              "    <tr>\n",
              "      <th>July</th>\n",
              "      <td>70.1</td>\n",
              "      <td>75.7</td>\n",
              "      <td>74.8</td>\n",
              "      <td>77.5</td>\n",
              "      <td>73.6</td>\n",
              "      <td>78.7</td>\n",
              "      <td>84.9</td>\n",
              "      <td>86.5</td>\n",
              "      <td>92.7</td>\n",
              "      <td>95.3</td>\n",
              "      <td>89.1</td>\n",
              "      <td>95.0</td>\n",
              "      <td>104.6</td>\n",
              "      <td>114.5</td>\n",
              "      <td>120.3</td>\n",
              "      <td>118.6</td>\n",
              "      <td>121.4</td>\n",
              "      <td>145.8</td>\n",
              "      <td>130.0</td>\n",
              "      <td>149.3</td>\n",
              "      <td>139.6</td>\n",
              "      <td>137.2</td>\n",
              "      <td>138.6</td>\n",
              "      <td>148.8</td>\n",
              "      <td>149.8</td>\n",
              "      <td>141.1</td>\n",
              "      <td>159.7</td>\n",
              "      <td>121.7</td>\n",
              "      <td>137.5</td>\n",
              "      <td>151.6</td>\n",
              "      <td>152.5</td>\n",
              "      <td>147.3</td>\n",
              "      <td>148.2</td>\n",
              "      <td>141.8</td>\n",
              "      <td>148.5</td>\n",
              "      <td>153.0</td>\n",
              "      <td>145.0</td>\n",
              "      <td>128.0</td>\n",
              "      <td>127.0</td>\n",
              "      <td>119.0</td>\n",
              "    </tr>\n",
              "    <tr>\n",
              "      <th>August</th>\n",
              "      <td>77.3</td>\n",
              "      <td>71.1</td>\n",
              "      <td>75.9</td>\n",
              "      <td>78.1</td>\n",
              "      <td>92.6</td>\n",
              "      <td>87.1</td>\n",
              "      <td>92.7</td>\n",
              "      <td>88.2</td>\n",
              "      <td>94.4</td>\n",
              "      <td>104.2</td>\n",
              "      <td>105.2</td>\n",
              "      <td>116.0</td>\n",
              "      <td>105.1</td>\n",
              "      <td>113.8</td>\n",
              "      <td>121.0</td>\n",
              "      <td>130.7</td>\n",
              "      <td>127.8</td>\n",
              "      <td>151.7</td>\n",
              "      <td>150.1</td>\n",
              "      <td>143.4</td>\n",
              "      <td>147.0</td>\n",
              "      <td>152.6</td>\n",
              "      <td>153.4</td>\n",
              "      <td>151.0</td>\n",
              "      <td>156.6</td>\n",
              "      <td>167.4</td>\n",
              "      <td>159.4</td>\n",
              "      <td>166.1</td>\n",
              "      <td>146.1</td>\n",
              "      <td>133.9</td>\n",
              "      <td>126.6</td>\n",
              "      <td>140.6</td>\n",
              "      <td>153.5</td>\n",
              "      <td>159.9</td>\n",
              "      <td>148.4</td>\n",
              "      <td>146.0</td>\n",
              "      <td>137.0</td>\n",
              "      <td>140.0</td>\n",
              "      <td>143.0</td>\n",
              "      <td>153.0</td>\n",
              "    </tr>\n",
              "    <tr>\n",
              "      <th>September</th>\n",
              "      <td>79.5</td>\n",
              "      <td>89.3</td>\n",
              "      <td>86.3</td>\n",
              "      <td>94.3</td>\n",
              "      <td>94.2</td>\n",
              "      <td>91.4</td>\n",
              "      <td>92.2</td>\n",
              "      <td>102.8</td>\n",
              "      <td>113.0</td>\n",
              "      <td>106.4</td>\n",
              "      <td>114.0</td>\n",
              "      <td>113.9</td>\n",
              "      <td>117.3</td>\n",
              "      <td>133.1</td>\n",
              "      <td>132.3</td>\n",
              "      <td>129.3</td>\n",
              "      <td>143.6</td>\n",
              "      <td>129.4</td>\n",
              "      <td>169.4</td>\n",
              "      <td>142.2</td>\n",
              "      <td>166.6</td>\n",
              "      <td>166.8</td>\n",
              "      <td>138.9</td>\n",
              "      <td>148.2</td>\n",
              "      <td>166.7</td>\n",
              "      <td>160.2</td>\n",
              "      <td>160.7</td>\n",
              "      <td>146.8</td>\n",
              "      <td>133.6</td>\n",
              "      <td>137.4</td>\n",
              "      <td>150.1</td>\n",
              "      <td>152.3</td>\n",
              "      <td>145.1</td>\n",
              "      <td>145.7</td>\n",
              "      <td>133.6</td>\n",
              "      <td>138.0</td>\n",
              "      <td>138.0</td>\n",
              "      <td>143.0</td>\n",
              "      <td>143.0</td>\n",
              "      <td>NaN</td>\n",
              "    </tr>\n",
              "    <tr>\n",
              "      <th>October</th>\n",
              "      <td>100.6</td>\n",
              "      <td>101.1</td>\n",
              "      <td>98.7</td>\n",
              "      <td>97.7</td>\n",
              "      <td>93.5</td>\n",
              "      <td>109.9</td>\n",
              "      <td>114.9</td>\n",
              "      <td>119.1</td>\n",
              "      <td>113.9</td>\n",
              "      <td>116.2</td>\n",
              "      <td>122.1</td>\n",
              "      <td>127.5</td>\n",
              "      <td>142.5</td>\n",
              "      <td>143.4</td>\n",
              "      <td>142.9</td>\n",
              "      <td>144.4</td>\n",
              "      <td>157.6</td>\n",
              "      <td>174.1</td>\n",
              "      <td>179.7</td>\n",
              "      <td>188.4</td>\n",
              "      <td>157.0</td>\n",
              "      <td>165.6</td>\n",
              "      <td>172.1</td>\n",
              "      <td>182.2</td>\n",
              "      <td>156.8</td>\n",
              "      <td>191.9</td>\n",
              "      <td>165.5</td>\n",
              "      <td>162.8</td>\n",
              "      <td>167.9</td>\n",
              "      <td>181.6</td>\n",
              "      <td>186.3</td>\n",
              "      <td>151.2</td>\n",
              "      <td>183.7</td>\n",
              "      <td>183.5</td>\n",
              "      <td>194.1</td>\n",
              "      <td>190.0</td>\n",
              "      <td>168.0</td>\n",
              "      <td>151.0</td>\n",
              "      <td>160.0</td>\n",
              "      <td>NaN</td>\n",
              "    </tr>\n",
              "    <tr>\n",
              "      <th>November</th>\n",
              "      <td>100.7</td>\n",
              "      <td>105.2</td>\n",
              "      <td>100.9</td>\n",
              "      <td>100.2</td>\n",
              "      <td>108.5</td>\n",
              "      <td>116.3</td>\n",
              "      <td>112.5</td>\n",
              "      <td>119.2</td>\n",
              "      <td>122.9</td>\n",
              "      <td>135.9</td>\n",
              "      <td>138.0</td>\n",
              "      <td>131.4</td>\n",
              "      <td>140.0</td>\n",
              "      <td>137.3</td>\n",
              "      <td>147.4</td>\n",
              "      <td>163.2</td>\n",
              "      <td>166.2</td>\n",
              "      <td>197.0</td>\n",
              "      <td>182.1</td>\n",
              "      <td>166.2</td>\n",
              "      <td>180.4</td>\n",
              "      <td>198.6</td>\n",
              "      <td>198.4</td>\n",
              "      <td>189.2</td>\n",
              "      <td>158.6</td>\n",
              "      <td>174.4</td>\n",
              "      <td>205.0</td>\n",
              "      <td>186.8</td>\n",
              "      <td>181.9</td>\n",
              "      <td>182.0</td>\n",
              "      <td>147.5</td>\n",
              "      <td>172.2</td>\n",
              "      <td>210.5</td>\n",
              "      <td>198.2</td>\n",
              "      <td>208.6</td>\n",
              "      <td>192.0</td>\n",
              "      <td>176.0</td>\n",
              "      <td>177.0</td>\n",
              "      <td>190.0</td>\n",
              "      <td>NaN</td>\n",
              "    </tr>\n",
              "    <tr>\n",
              "      <th>December</th>\n",
              "      <td>107.1</td>\n",
              "      <td>114.1</td>\n",
              "      <td>113.8</td>\n",
              "      <td>116.4</td>\n",
              "      <td>109.4</td>\n",
              "      <td>113.0</td>\n",
              "      <td>118.3</td>\n",
              "      <td>125.1</td>\n",
              "      <td>132.7</td>\n",
              "      <td>134.0</td>\n",
              "      <td>142.2</td>\n",
              "      <td>145.9</td>\n",
              "      <td>159.8</td>\n",
              "      <td>165.2</td>\n",
              "      <td>175.9</td>\n",
              "      <td>179.4</td>\n",
              "      <td>182.3</td>\n",
              "      <td>193.9</td>\n",
              "      <td>194.3</td>\n",
              "      <td>199.2</td>\n",
              "      <td>210.2</td>\n",
              "      <td>201.5</td>\n",
              "      <td>217.8</td>\n",
              "      <td>183.1</td>\n",
              "      <td>210.8</td>\n",
              "      <td>208.2</td>\n",
              "      <td>205.2</td>\n",
              "      <td>185.5</td>\n",
              "      <td>202.0</td>\n",
              "      <td>190.0</td>\n",
              "      <td>200.4</td>\n",
              "      <td>215.3</td>\n",
              "      <td>203.3</td>\n",
              "      <td>186.8</td>\n",
              "      <td>197.3</td>\n",
              "      <td>192.0</td>\n",
              "      <td>188.0</td>\n",
              "      <td>184.0</td>\n",
              "      <td>182.0</td>\n",
              "      <td>NaN</td>\n",
              "    </tr>\n",
              "  </tbody>\n",
              "</table>\n",
              "</div>"
            ],
            "text/plain": [
              "            1950   1951   1952   1953   1954  ...   1985   1986   1987   1988   1989\n",
              "month                                         ...                                   \n",
              "January     93.2   95.9   96.3   89.8   97.1  ...  164.4  147.0  139.0  151.0  138.0\n",
              "February    96.0   82.8   84.4   84.4   93.0  ...  148.1  133.0  143.0  134.0  136.0\n",
              "March       95.2   83.3   91.2   87.2   96.0  ...  152.0  163.0  150.0  164.0  152.0\n",
              "April       77.1   80.0   81.9   85.6   80.5  ...  144.1  150.0  154.0  126.0  127.0\n",
              "May         70.9   80.4   80.5   72.0   76.1  ...  155.0  129.0  137.0  131.0  151.0\n",
              "June        64.8   67.5   70.4   69.2   69.9  ...  124.5  131.0  129.0  125.0  130.0\n",
              "July        70.1   75.7   74.8   77.5   73.6  ...  153.0  145.0  128.0  127.0  119.0\n",
              "August      77.3   71.1   75.9   78.1   92.6  ...  146.0  137.0  140.0  143.0  153.0\n",
              "September   79.5   89.3   86.3   94.3   94.2  ...  138.0  138.0  143.0  143.0    NaN\n",
              "October    100.6  101.1   98.7   97.7   93.5  ...  190.0  168.0  151.0  160.0    NaN\n",
              "November   100.7  105.2  100.9  100.2  108.5  ...  192.0  176.0  177.0  190.0    NaN\n",
              "December   107.1  114.1  113.8  116.4  109.4  ...  192.0  188.0  184.0  182.0    NaN\n",
              "\n",
              "[12 rows x 40 columns]"
            ]
          },
          "metadata": {
            "tags": []
          }
        }
      ]
    },
    {
      "cell_type": "markdown",
      "metadata": {
        "id": "WWHeNWij6Xzv"
      },
      "source": [
        "### Selecting Rows and Columns\n",
        "\n",
        "We can make simple selections of rows and columns in our data using the square bracket `[]` operator and the `loc` function. \n",
        "\n",
        "Giving the `[]` operator the name of a single column will return that column, e.g. `data['1989']` will return the entire `1989` column.\n",
        "\n",
        "If we pass in a comma-separated sequence of names contained in a `[]` (called a `list` in Python), we can select multiple columns, e.g. `data[['1980','1981']]` will return a dataframe with only two columns selected."
      ]
    },
    {
      "cell_type": "code",
      "metadata": {
        "id": "MitKUmQ562KZ",
        "colab": {
          "base_uri": "https://localhost:8080/",
          "height": 0
        },
        "outputId": "7c70e07c-8ee0-448b-c7a4-bc2c3e582750"
      },
      "source": [
        "# Disply just ONE column, the 1989 column\n",
        "display(data['1989'])\n",
        "\n",
        "# Display MORE THAN ONE column, the 1980 and 1981 columns\n",
        "display(data[['1980','1981']])"
      ],
      "execution_count": 3,
      "outputs": [
        {
          "output_type": "display_data",
          "data": {
            "text/plain": [
              "month\n",
              "January      138.0\n",
              "February     136.0\n",
              "March        152.0\n",
              "April        127.0\n",
              "May          151.0\n",
              "June         130.0\n",
              "July         119.0\n",
              "August       153.0\n",
              "September      NaN\n",
              "October        NaN\n",
              "November       NaN\n",
              "December       NaN\n",
              "Name: 1989, dtype: float64"
            ]
          },
          "metadata": {
            "tags": []
          }
        },
        {
          "output_type": "display_data",
          "data": {
            "text/html": [
              "<div>\n",
              "<style scoped>\n",
              "    .dataframe tbody tr th:only-of-type {\n",
              "        vertical-align: middle;\n",
              "    }\n",
              "\n",
              "    .dataframe tbody tr th {\n",
              "        vertical-align: top;\n",
              "    }\n",
              "\n",
              "    .dataframe thead th {\n",
              "        text-align: right;\n",
              "    }\n",
              "</style>\n",
              "<table border=\"1\" class=\"dataframe\">\n",
              "  <thead>\n",
              "    <tr style=\"text-align: right;\">\n",
              "      <th></th>\n",
              "      <th>1980</th>\n",
              "      <th>1981</th>\n",
              "    </tr>\n",
              "    <tr>\n",
              "      <th>month</th>\n",
              "      <th></th>\n",
              "      <th></th>\n",
              "    </tr>\n",
              "  </thead>\n",
              "  <tbody>\n",
              "    <tr>\n",
              "      <th>January</th>\n",
              "      <td>161.2</td>\n",
              "      <td>177.2</td>\n",
              "    </tr>\n",
              "    <tr>\n",
              "      <th>February</th>\n",
              "      <td>155.5</td>\n",
              "      <td>127.4</td>\n",
              "    </tr>\n",
              "    <tr>\n",
              "      <th>March</th>\n",
              "      <td>141.9</td>\n",
              "      <td>177.1</td>\n",
              "    </tr>\n",
              "    <tr>\n",
              "      <th>April</th>\n",
              "      <td>164.6</td>\n",
              "      <td>154.4</td>\n",
              "    </tr>\n",
              "    <tr>\n",
              "      <th>May</th>\n",
              "      <td>136.2</td>\n",
              "      <td>135.2</td>\n",
              "    </tr>\n",
              "    <tr>\n",
              "      <th>June</th>\n",
              "      <td>126.8</td>\n",
              "      <td>126.4</td>\n",
              "    </tr>\n",
              "    <tr>\n",
              "      <th>July</th>\n",
              "      <td>152.5</td>\n",
              "      <td>147.3</td>\n",
              "    </tr>\n",
              "    <tr>\n",
              "      <th>August</th>\n",
              "      <td>126.6</td>\n",
              "      <td>140.6</td>\n",
              "    </tr>\n",
              "    <tr>\n",
              "      <th>September</th>\n",
              "      <td>150.1</td>\n",
              "      <td>152.3</td>\n",
              "    </tr>\n",
              "    <tr>\n",
              "      <th>October</th>\n",
              "      <td>186.3</td>\n",
              "      <td>151.2</td>\n",
              "    </tr>\n",
              "    <tr>\n",
              "      <th>November</th>\n",
              "      <td>147.5</td>\n",
              "      <td>172.2</td>\n",
              "    </tr>\n",
              "    <tr>\n",
              "      <th>December</th>\n",
              "      <td>200.4</td>\n",
              "      <td>215.3</td>\n",
              "    </tr>\n",
              "  </tbody>\n",
              "</table>\n",
              "</div>"
            ],
            "text/plain": [
              "            1980   1981\n",
              "month                  \n",
              "January    161.2  177.2\n",
              "February   155.5  127.4\n",
              "March      141.9  177.1\n",
              "April      164.6  154.4\n",
              "May        136.2  135.2\n",
              "June       126.8  126.4\n",
              "July       152.5  147.3\n",
              "August     126.6  140.6\n",
              "September  150.1  152.3\n",
              "October    186.3  151.2\n",
              "November   147.5  172.2\n",
              "December   200.4  215.3"
            ]
          },
          "metadata": {
            "tags": []
          }
        }
      ]
    },
    {
      "cell_type": "markdown",
      "metadata": {
        "id": "AL5qKABnNW4Z"
      },
      "source": [
        "If we want to select individual cells from the `DataFrame`, we can use the `loc` operator, where the first argument is the row you want to select and the second is the column. If you want to select *all* rows or columns, you can substitute `:` to mean *all elements*. "
      ]
    },
    {
      "cell_type": "code",
      "metadata": {
        "id": "K12EJRbhOYkW",
        "colab": {
          "base_uri": "https://localhost:8080/",
          "height": 0
        },
        "outputId": "34e0e946-230a-426f-e329-f2bed142849c"
      },
      "source": [
        "# Select February of 1979\n",
        "display(data.loc['February','1979'])\n",
        "\n",
        "# Select all Februarys\n",
        "# Select February of 1979\n",
        "display(data.loc['February',:])"
      ],
      "execution_count": 4,
      "outputs": [
        {
          "output_type": "display_data",
          "data": {
            "text/plain": [
              "151.3"
            ]
          },
          "metadata": {
            "tags": []
          }
        },
        {
          "output_type": "display_data",
          "data": {
            "text/plain": [
              "1950     96.0\n",
              "1951     82.8\n",
              "1952     84.4\n",
              "1953     84.4\n",
              "1954     93.0\n",
              "1955     92.5\n",
              "1956     84.8\n",
              "1957     91.2\n",
              "1958    102.1\n",
              "1959     96.6\n",
              "1960    107.1\n",
              "1961    112.6\n",
              "1962    131.0\n",
              "1963    125.4\n",
              "1964    124.0\n",
              "1965    123.7\n",
              "1966    138.4\n",
              "1967    147.6\n",
              "1968    142.8\n",
              "1969    169.4\n",
              "1970    145.2\n",
              "1971    157.8\n",
              "1972    164.4\n",
              "1973    153.8\n",
              "1974    158.4\n",
              "1975    175.2\n",
              "1976    161.1\n",
              "1977    148.1\n",
              "1978    158.1\n",
              "1979    151.3\n",
              "1980    155.5\n",
              "1981    127.4\n",
              "1982    159.3\n",
              "1983    144.3\n",
              "1984    150.6\n",
              "1985    148.1\n",
              "1986    133.0\n",
              "1987    143.0\n",
              "1988    134.0\n",
              "1989    136.0\n",
              "Name: February, dtype: float64"
            ]
          },
          "metadata": {
            "tags": []
          }
        }
      ]
    },
    {
      "cell_type": "markdown",
      "metadata": {
        "id": "zVnTiT4NFBOO"
      },
      "source": [
        "### Calculating Simple Numeric Statistics\n",
        "\n",
        "Once we've selected a subset of data that we want to work with, we can then call some simple numeric functions on the data. many functions are available as *methods on the `DataFrame` or individual column and are accessible using the `.function_name(function_arguments)` notation. \n",
        "\n",
        "As an example, we can calculate the mean of all data from February by first selecting the data from February, then adding `.mean()` to the end of the code\n",
        "\n",
        "*Press the play button in Google Colab or press `Shift+Enter` to execute the cell below*"
      ]
    },
    {
      "cell_type": "code",
      "metadata": {
        "colab": {
          "base_uri": "https://localhost:8080/",
          "height": 0
        },
        "id": "xWuzOolPFBOP",
        "outputId": "68bdd104-713c-428a-aa7f-e31471288fb6"
      },
      "source": [
        "# Select just February data and calculate the mean\n",
        "\n",
        "display(data.loc['February', :].mean())"
      ],
      "execution_count": 5,
      "outputs": [
        {
          "output_type": "display_data",
          "data": {
            "text/plain": [
              "130.86000000000004"
            ]
          },
          "metadata": {
            "tags": []
          }
        }
      ]
    },
    {
      "cell_type": "markdown",
      "metadata": {
        "id": "WJMPHukiFBOP"
      },
      "source": [
        "### Making Simple Plots\n",
        "\n",
        "To plot a single column of a `DataFrame` as a time series plot, you can simply use the `.plot()` function, e.g. `time_series['production'].plot()`\n",
        "\n",
        "Here, we'll use the `time_series` `DataFrame`, which has a single column containing yearly auto production data for Japanese cars. \n",
        "\n"
      ]
    },
    {
      "cell_type": "code",
      "metadata": {
        "id": "pemhFYoOvfz0",
        "outputId": "1aeecb7d-0901-41e4-ee13-21c872f77481",
        "colab": {
          "base_uri": "https://localhost:8080/",
          "height": 0
        }
      },
      "source": [
        "time_series['production'].plot()"
      ],
      "execution_count": 6,
      "outputs": [
        {
          "output_type": "execute_result",
          "data": {
            "text/plain": [
              "<matplotlib.axes._subplots.AxesSubplot at 0x7f21e61c1358>"
            ]
          },
          "metadata": {
            "tags": []
          },
          "execution_count": 6
        },
        {
          "output_type": "display_data",
          "data": {
            "image/png": "[encoded data removed]",
            "text/plain": [
              "<Figure size 432x288 with 1 Axes>"
            ]
          },
          "metadata": {
            "tags": [],
            "needs_background": "light"
          }
        }
      ]
    },
    {
      "cell_type": "markdown",
      "metadata": {
        "id": "pnoMgA-Gvqh2"
      },
      "source": [
        "*Everything* in a plot can be customized. Below, we show several useful options for adding titles and adjusting the size of a plot. "
      ]
    },
    {
      "cell_type": "code",
      "metadata": {
        "id": "Hz1FyMkUv1V7",
        "outputId": "c62581f1-6e0a-47c5-ae12-d011152dfb95",
        "colab": {
          "base_uri": "https://localhost:8080/",
          "height": 0
        }
      },
      "source": [
        "FONT_SIZE = 18\n",
        "f = plt.figure(figsize=(12,8))\n",
        "\n",
        "ax=plt.subplot()\n",
        "time_series.plot(ax=ax,fontsize=FONT_SIZE)\n",
        "title = plt.title('Automobile Production', size=FONT_SIZE+2)\n",
        "x_yabel = plt.xlabel('Year', size=FONT_SIZE)\n",
        "y_yabel = plt.ylabel('Production Volume (thousands)', size=FONT_SIZE)"
      ],
      "execution_count": 7,
      "outputs": [
        {
          "output_type": "display_data",
          "data": {
            "image/png": "[encoded data removed]",
            "text/plain": [
              "<Figure size 864x576 with 1 Axes>"
            ]
          },
          "metadata": {
            "tags": [],
            "needs_background": "light"
          }
        }
      ]
    },
    {
      "cell_type": "markdown",
      "metadata": {
        "id": "FPfgVcynhoiA"
      },
      "source": [
        "# Numeric Transformations\n",
        "\n",
        "We can create a *new* column in a `DataFrame` from an existing one by manipulating an existing column with simple algebra or funcitons and *assigning the result to a new column*. \n",
        "\n",
        "For example: `time_series['plus_500'] = time_series['production'] + 500`"
      ]
    },
    {
      "cell_type": "code",
      "metadata": {
        "id": "z_ENB6kgyI8q",
        "outputId": "5d2317c1-12e6-4865-edfa-09a3a2cc6d30",
        "colab": {
          "base_uri": "https://localhost:8080/",
          "height": 297
        }
      },
      "source": [
        "time_series['plus_500'] = time_series['production'] + 500\n",
        "\n",
        "time_series['production'].plot()\n",
        "time_series['plus_500'].plot()"
      ],
      "execution_count": 8,
      "outputs": [
        {
          "output_type": "execute_result",
          "data": {
            "text/plain": [
              "<matplotlib.axes._subplots.AxesSubplot at 0x7f21e5b64eb8>"
            ]
          },
          "metadata": {
            "tags": []
          },
          "execution_count": 8
        },
        {
          "output_type": "display_data",
          "data": {
            "image/png": "[encoded data removed]",
            "text/plain": [
              "<Figure size 432x288 with 1 Axes>"
            ]
          },
          "metadata": {
            "tags": [],
            "needs_background": "light"
          }
        }
      ]
    },
    {
      "cell_type": "markdown",
      "metadata": {
        "id": "QOlwUSQyzGGz"
      },
      "source": [
        "A slightly more complex example might be subtracting the mean (computed with the `.mean()` function) from a column:"
      ]
    },
    {
      "cell_type": "code",
      "metadata": {
        "id": "vhOrYO_nzNf6",
        "outputId": "acacb0f5-52ec-40db-b251-d5840fca9eb6",
        "colab": {
          "base_uri": "https://localhost:8080/",
          "height": 296
        }
      },
      "source": [
        "time_series['without_mean'] = time_series['production'] - time_series['production'].mean()\n",
        "\n",
        "time_series['production'].plot()\n",
        "time_series['without_mean'].plot()"
      ],
      "execution_count": 9,
      "outputs": [
        {
          "output_type": "execute_result",
          "data": {
            "text/plain": [
              "<matplotlib.axes._subplots.AxesSubplot at 0x7f21e5b14588>"
            ]
          },
          "metadata": {
            "tags": []
          },
          "execution_count": 9
        },
        {
          "output_type": "display_data",
          "data": {
            "image/png": "[encoded data removed]",
            "text/plain": [
              "<Figure size 432x288 with 1 Axes>"
            ]
          },
          "metadata": {
            "tags": [],
            "needs_background": "light"
          }
        }
      ]
    },
    {
      "cell_type": "markdown",
      "metadata": {
        "id": "y8nHWcPmygJ-"
      },
      "source": [
        "Transformations can also be applied to multiple columns in the same `DataFrame` by just applying algebra to the columns, e.g.\n",
        "\n",
        "`time_series['difference'] = time_series['plus_500'] - time_series['plus_500']`"
      ]
    },
    {
      "cell_type": "code",
      "metadata": {
        "id": "DcodYxrallwq",
        "outputId": "b5dd25d5-ead8-4168-abfb-d9e27c2c91ce",
        "colab": {
          "base_uri": "https://localhost:8080/",
          "height": 296
        }
      },
      "source": [
        "time_series['difference'] = time_series['plus_500'] - time_series['production']\n",
        "\n",
        "time_series['difference'].plot()"
      ],
      "execution_count": 10,
      "outputs": [
        {
          "output_type": "execute_result",
          "data": {
            "text/plain": [
              "<matplotlib.axes._subplots.AxesSubplot at 0x7f21e477ee80>"
            ]
          },
          "metadata": {
            "tags": []
          },
          "execution_count": 10
        },
        {
          "output_type": "display_data",
          "data": {
            "image/png": "[encoded data removed]",
            "text/plain": [
              "<Figure size 432x288 with 1 Axes>"
            ]
          },
          "metadata": {
            "tags": [],
            "needs_background": "light"
          }
        }
      ]
    },
    {
      "cell_type": "markdown",
      "metadata": {
        "id": "y-KkyZPgz4BK"
      },
      "source": [
        "### More complex transformations\n",
        "\n",
        "The `pandas` package provides many built in functions that can be accessed with the same `.function_name(function_arguments)` notation as for simple numeric statistics. One such function that will be very useful for our purposes is the `.shift()` function, which allows you to shift a series by a set number of time steps. For example, `time_series.shift(1)` would shift the data by one time step:\n"
      ]
    },
    {
      "cell_type": "code",
      "metadata": {
        "id": "3oqCwmqszuR9",
        "outputId": "fa081051-309e-4e07-ddb1-7a3bb24bafee",
        "colab": {
          "base_uri": "https://localhost:8080/",
          "height": 296
        }
      },
      "source": [
        "time_series['shift1'] = time_series['production'].shift(1)\n",
        "\n",
        "time_series['production'].plot()\n",
        "\n",
        "time_series['shift1'].plot()"
      ],
      "execution_count": 11,
      "outputs": [
        {
          "output_type": "execute_result",
          "data": {
            "text/plain": [
              "<matplotlib.axes._subplots.AxesSubplot at 0x7f21e4661358>"
            ]
          },
          "metadata": {
            "tags": []
          },
          "execution_count": 11
        },
        {
          "output_type": "display_data",
          "data": {
            "image/png": "[encoded data removed]",
            "text/plain": [
              "<Figure size 432x288 with 1 Axes>"
            ]
          },
          "metadata": {
            "tags": [],
            "needs_background": "light"
          }
        }
      ]
    },
    {
      "cell_type": "markdown",
      "metadata": {
        "id": "pAAMm-3-08U7"
      },
      "source": [
        "### Other Numeric Functions\n",
        "Many many numeric transformations and simple mathematical functions are provided by the `numpy` Python package (a package for numerical computing in Python). \n",
        "\n",
        "To use a function from `numpy`, you just have to import it from the package, e.g.\n",
        "\n",
        "`from numpy import log`\n",
        "\n",
        "`time_series['log_transform'] = log(time_series['production'])`"
      ]
    },
    {
      "cell_type": "code",
      "metadata": {
        "id": "sD7hphyF1AjH",
        "outputId": "64fc4b24-8ce4-41f6-c329-7ee0c42bd5f1",
        "colab": {
          "base_uri": "https://localhost:8080/",
          "height": 296
        }
      },
      "source": [
        "from numpy import log\n",
        "\n",
        "time_series['log_transform'] = log(time_series['production'])\n",
        "\n",
        "time_series['log_transform'].plot()"
      ],
      "execution_count": 12,
      "outputs": [
        {
          "output_type": "execute_result",
          "data": {
            "text/plain": [
              "<matplotlib.axes._subplots.AxesSubplot at 0x7f21e4661ba8>"
            ]
          },
          "metadata": {
            "tags": []
          },
          "execution_count": 12
        },
        {
          "output_type": "display_data",
          "data": {
            "image/png": "[encoded data removed]",
            "text/plain": [
              "<Figure size 432x288 with 1 Axes>"
            ]
          },
          "metadata": {
            "tags": [],
            "needs_background": "light"
          }
        }
      ]
    },
    {
      "cell_type": "markdown",
      "metadata": {
        "id": "W8FZMdWC1k5x"
      },
      "source": [
        "### Mean Absolute Percent Error Example\n",
        "\n",
        "As a last example, let's consider computing the mean absolute percent error between the `production` column and the `shift1` column (which is a naive forecast NF1). \n",
        "\n",
        "To do this, we need to:\n",
        "\n",
        "1. Subtract the two columns\n",
        "2. Take the absolute value of the difference\n",
        "3. Divide the absolute value of the difference by the `production` column\n",
        "4. Take the \n",
        "\n",
        "For step 2), we'll use the `numpy` function `abs`, which we can import with:\n",
        "\n",
        "`from numpy import abs`\n",
        "\n",
        "For step 4), we can either use the pandas built-in function `.mean()` as we saw above for simple stats, or we can use the `numpy` function `mean()`. Both will do the same thing!\n",
        "\n",
        "For the rest of the calculation, we can just apply algebra to the columns. "
      ]
    },
    {
      "cell_type": "code",
      "metadata": {
        "id": "hAk0buEP1cTE",
        "outputId": "4d984c9c-d1d8-48be-f3e3-25a5695a94e1",
        "colab": {
          "base_uri": "https://localhost:8080/"
        }
      },
      "source": [
        "from numpy import abs, mean\n",
        "\n",
        "time_series['difference'] = time_series['shift1'] - time_series['production']\n",
        "time_series['absolute_difference'] = abs(time_series['difference'])\n",
        "time_series['absolute_percent_error'] = time_series['absolute_difference'] / time_series['production']\n",
        "\n",
        "MAPE1 = time_series['absolute_percent_error'].mean()\n",
        "\n",
        "MAPE2 = mean(time_series['absolute_percent_error'])\n",
        "\n",
        "print(MAPE1)\n",
        "\n",
        "print(MAPE2)"
      ],
      "execution_count": 13,
      "outputs": [
        {
          "output_type": "stream",
          "text": [
            "0.1494871524977995\n",
            "0.1494871524977995\n"
          ],
          "name": "stdout"
        }
      ]
    }
  ]
}