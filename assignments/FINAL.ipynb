{
  "nbformat": 4,
  "nbformat_minor": 0,
  "metadata": {
    "kernelspec": {
      "display_name": "Python 3",
      "language": "python",
      "name": "python3"
    },
    "language_info": {
      "codemirror_mode": {
        "name": "ipython",
        "version": 3
      },
      "file_extension": ".py",
      "mimetype": "text/x-python",
      "name": "python",
      "nbconvert_exporter": "python",
      "pygments_lexer": "ipython3",
      "version": "3.7.4"
    },
    "colab": {
      "name": "FINAL.ipynb",
      "provenance": [],
      "include_colab_link": true
    }
  },
  "cells": [
    {
      "cell_type": "markdown",
      "metadata": {
        "id": "view-in-github",
        "colab_type": "text"
      },
      "source": [
        "<a href=\"https://colab.research.google.com/github/ZacharySBrown/vcu-scma440-2021q1/blob/master/assignments/FINAL.ipynb\" target=\"_parent\"><img src=\"https://colab.research.google.com/assets/colab-badge.svg\" alt=\"Open In Colab\"/></a>"
      ]
    },
    {
      "cell_type": "markdown",
      "metadata": {
        "id": "VPEgFm_ESXZD"
      },
      "source": [
        "# Setup and Fetch Data\n",
        "Press the play button in Google Colab or press Shift+Enter execute the cell below to download and load the data and packages for this assignment\n",
        "\n",
        "This will setup you environment and load a DataFrame called `energen_rev` that contains monthly revenue data for the Australian Company Energen from 1961 - 1992. "
      ]
    },
    {
      "cell_type": "code",
      "metadata": {
        "colab": {
          "base_uri": "https://localhost:8080/"
        },
        "id": "hYru_dcsSXZF",
        "outputId": "069bcb33-1c3d-4097-f9b2-e2407d21cad7"
      },
      "source": [
        "! pip install --upgrade statsmodels\n",
        "\n",
        "import pandas as pd\n",
        "import statsmodels.api as sm\n",
        "from statsmodels.formula.api import ols\n",
        "from statsmodels.stats.stattools import durbin_watson\n",
        "from statsmodels.stats.outliers_influence import variance_inflation_factor\n",
        "from statsmodels.graphics.tsaplots import plot_acf, plot_pacf\n",
        "from statsmodels.tsa.api import ExponentialSmoothing, SimpleExpSmoothing, Holt\n",
        "import statsmodels as sm\n",
        "import numpy as np\n",
        "from matplotlib import pyplot as plt\n",
        "from IPython.display import display\n",
        "import matplotlib.pyplot as plt  \n",
        "from statsmodels.tsa.arima.model import ARIMA\n",
        "from scipy.stats import t, f\n",
        "\n",
        "import warnings\n",
        "warnings.filterwarnings('ignore', 'statsmodels.tsa.arima_model.ARMA',\n",
        "                        FutureWarning)\n",
        "warnings.filterwarnings('ignore', 'statsmodels.tsa.arima_model.ARIMA',\n",
        "                        FutureWarning)\n",
        "\n",
        "%matplotlib inline\n",
        "\n",
        "plt.rcParams['figure.figsize'] = (12, 8)\n",
        "plt.rcParams['font.size'] = 16\n",
        "!curl https://vcu-scma-440.s3.amazonaws.com/data/energen_rev2.csv > energen_rev2.csv\n",
        "    \n",
        "energen_rev = pd.read_csv('energen_rev2.csv', parse_dates=['date']).set_index('date')"
      ],
      "execution_count": 9,
      "outputs": [
        {
          "output_type": "stream",
          "text": [
            "Requirement already up-to-date: statsmodels in /usr/local/lib/python3.7/dist-packages (0.12.2)\n",
            "Requirement already satisfied, skipping upgrade: patsy>=0.5 in /usr/local/lib/python3.7/dist-packages (from statsmodels) (0.5.1)\n",
            "Requirement already satisfied, skipping upgrade: numpy>=1.15 in /usr/local/lib/python3.7/dist-packages (from statsmodels) (1.19.5)\n",
            "Requirement already satisfied, skipping upgrade: scipy>=1.1 in /usr/local/lib/python3.7/dist-packages (from statsmodels) (1.4.1)\n",
            "Requirement already satisfied, skipping upgrade: pandas>=0.21 in /usr/local/lib/python3.7/dist-packages (from statsmodels) (1.1.5)\n",
            "Requirement already satisfied, skipping upgrade: six in /usr/local/lib/python3.7/dist-packages (from patsy>=0.5->statsmodels) (1.15.0)\n",
            "Requirement already satisfied, skipping upgrade: python-dateutil>=2.7.3 in /usr/local/lib/python3.7/dist-packages (from pandas>=0.21->statsmodels) (2.8.1)\n",
            "Requirement already satisfied, skipping upgrade: pytz>=2017.2 in /usr/local/lib/python3.7/dist-packages (from pandas>=0.21->statsmodels) (2018.9)\n",
            "  % Total    % Received % Xferd  Average Speed   Time    Time     Time  Current\n",
            "                                 Dload  Upload   Total   Spent    Left  Speed\n",
            "100 19864  100 19864    0     0  85253      0 --:--:-- --:--:-- --:--:-- 85253\n"
          ],
          "name": "stdout"
        }
      ]
    },
    {
      "cell_type": "markdown",
      "metadata": {
        "id": "TDKd1nv4SXZJ"
      },
      "source": [
        "# 1: Identifying ARIMA model in `revenue`\n",
        "In this example, we'll attempt to identify an ARIMA model in the `revenue` time series. \n",
        " \n",
        "Begin by plotting the time series `energen_rev['revenue']`, as well as the PACF and ACF to check for non-stationarity. \n",
        "\n",
        "If the data is non-stationary, apply one-step differencing using the following expression: \n",
        "\n",
        "```\n",
        "energen_rev['revenue_diff'] = energen_rev['revenue'].diff().dropna()\n",
        "```\n",
        "\n",
        "Lastly, use the ACF and PACF plots to identify an appropriate $ARIMA(p,d,q)(P,D,Q)_{s}$ that could be applied to the time series.\n",
        "\n",
        "The [`arima_exploration`](https://github.com/ZacharySBrown/vcu-scma440-2021q1/blob/master/examples/7a_arima_exploration.ipynb) example from class will be an excellent reference for this problem. "
      ]
    },
    {
      "cell_type": "markdown",
      "metadata": {
        "id": "4qPP9TF9SXZK"
      },
      "source": [
        "## 1a. Initial Plots\n",
        "In the cell below, plot `energen_rev['revenue']` as well as the ACF and PACF"
      ]
    },
    {
      "cell_type": "code",
      "metadata": {
        "id": "J4gUQhvHSXZK"
      },
      "source": [
        "## YOUR CODE HERE\n"
      ],
      "execution_count": 17,
      "outputs": []
    },
    {
      "cell_type": "markdown",
      "metadata": {
        "id": "xDMQYqgVSXZL"
      },
      "source": [
        "## 1b. Removing non-stationarity\n",
        "If the plots above indicate non-stationarity, copy and paste the following in the cell below to do one-step differencing on the time series to remove the non-stationarity (and also remove any `NaN` values in the resulting `DataFrame`. \n",
        "\n",
        "```\n",
        "energen_rev['revenue_diff'] = energen_rev['revenue'].diff()\n",
        "energen_rev = energen_rev.dropna()\n",
        "```"
      ]
    },
    {
      "cell_type": "code",
      "metadata": {
        "id": "vgPKNB-wSXZL"
      },
      "source": [
        "# YOUR CODE HERE\n"
      ],
      "execution_count": 18,
      "outputs": []
    },
    {
      "cell_type": "markdown",
      "metadata": {
        "id": "pUBRg0KNSXZL"
      },
      "source": [
        "## 1c. Identifying the appropriate ARIMA Model\n",
        "\n",
        "If you differenced the data above, plot the ACF and PACF of the differenced data (`revenue_diff`) in the cell below, otherwise re-plot the ACF and PACF of the original revenue data (`revenue`). On your final exam sheet, write the identified model in the notation:\n",
        "\n",
        "$$ ARIMA\\left(p,d,q\\right)\\left(P,D,Q\\right)_{s} $$"
      ]
    },
    {
      "cell_type": "code",
      "metadata": {
        "id": "P1FkB9BTSXZM"
      },
      "source": [
        "# YOUR CODE HERE\n"
      ],
      "execution_count": 19,
      "outputs": []
    },
    {
      "cell_type": "markdown",
      "metadata": {
        "id": "Hjn4bGvASXZM"
      },
      "source": [
        "# 2. Fitting an ARIMA Model\n",
        "\n",
        "Using the `ARIMA` function, fit the ARIMA model identified in problem 1c to the `energen_rev['revenue']` data (i.e. set `endog=energen_rev['revenue']`). Be sure to specify the correct ARIMA model identified above using the `order` and `seasonal_order` parameters to `ARIMA`. Make sure also to specify one-step (and possibly seasonal) differencing if you found you needed to difference the data in problem 1b to make the data stationary!\n",
        "\n",
        "Once you've specified the model, fit the model, and print `results.summary()`. On your final exam sheet, write in the value of `AIC` printed in the results summary. "
      ]
    },
    {
      "cell_type": "code",
      "metadata": {
        "id": "7RNb0pvHSXZM"
      },
      "source": [
        "# YOUR CODE HERE\n"
      ],
      "execution_count": 20,
      "outputs": []
    },
    {
      "cell_type": "markdown",
      "metadata": {
        "id": "cRVPNXfwSXZN"
      },
      "source": [
        "# 3. Fitting an Regression with ARIMA Errors\n",
        "\n",
        "In this section, we'll use the other variables (`cars`, `gas`, and `elec`) in the `energen_rev` `DataFrame` to carry out a multiple linear regression with ARIMA errors, using the same ARIMA model identified in problem 1c. To do this we only need to add one argument to our code from problem 2, namely `exog=energen_rev[['gas','elec','cars']]`. In the cell below, create and fit an ARIMA model, this time specifying the `exog` parameters as well. \n",
        "\n",
        "Once you've specified the model, fit the model, and print `results.summary()`. On your final exam sheet, write in the value of `AIC` printed in the results summary for problem 3, and state whether or not this new fit is better or worse that the ARIMA model from problem 2. "
      ]
    },
    {
      "cell_type": "code",
      "metadata": {
        "id": "ZnYZh5j2SXZP"
      },
      "source": [
        "# YOUR CODE HERE\n"
      ],
      "execution_count": 21,
      "outputs": []
    }
  ]
}