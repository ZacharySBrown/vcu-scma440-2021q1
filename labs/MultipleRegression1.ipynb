{
  "nbformat": 4,
  "nbformat_minor": 0,
  "metadata": {
    "colab": {
      "name": "MultipleRegression1.ipynb",
      "provenance": [],
      "authorship_tag": "ABX9TyNys5Z8Gnzw7RSbTyPX56+/",
      "include_colab_link": true
    },
    "kernelspec": {
      "name": "python3",
      "display_name": "Python 3"
    }
  },
  "cells": [
    {
      "cell_type": "markdown",
      "metadata": {
        "id": "view-in-github",
        "colab_type": "text"
      },
      "source": [
        "<a href=\"https://colab.research.google.com/github/ZacharySBrown/vcu-scma440-2021q1/blob/master/labs/MultipleRegression1.ipynb\" target=\"_parent\"><img src=\"https://colab.research.google.com/assets/colab-badge.svg\" alt=\"Open In Colab\"/></a>"
      ]
    },
    {
      "cell_type": "markdown",
      "metadata": {
        "id": "cZC4J_9HqFbs"
      },
      "source": [
        "# Setup and Fetch Data\n",
        "Press the play button in Google Colab or press Shift+Enter execute the cell below to download and load the data and packages for this assignment\n",
        "\n",
        "This will setup you environment and load a DataFrame called `boston` that contains the data from Makridakis Problem 6.5, as well as a `DataFrame` called `boston_months` that contains the months from the `boston` data already created as dummy variables"
      ]
    },
    {
      "cell_type": "code",
      "metadata": {
        "colab": {
          "base_uri": "https://localhost:8080/"
        },
        "id": "9oxMHg71qDaE",
        "outputId": "3157461c-4f6e-4cda-ea86-9a1a903a1c2c"
      },
      "source": [
        "import pandas as pd\n",
        "import statsmodels.api as sm\n",
        "from statsmodels.formula.api import ols\n",
        "from statsmodels.stats.stattools import durbin_watson\n",
        "import numpy as np\n",
        "from matplotlib import pyplot as plt\n",
        "from IPython.display import display\n",
        "\n",
        "\n",
        "from scipy.stats import t, f\n",
        "\n",
        "%matplotlib inline\n",
        "\n",
        "plt.rcParams['figure.figsize'] = (12, 8)\n",
        "plt.rcParams['font.size'] = 16\n",
        "\n",
        "!curl https://vcu-scma-440.s3.amazonaws.com/data/boston.csv > boston.csv\n",
        "\n",
        "boston_months = pd.read_csv('boston.csv', parse_dates=['date']).set_index('date')\n",
        "\n",
        "boston = boston.drop([c for c in boston.columns if c.startswith('month')], axis=1)"
      ],
      "execution_count": 7,
      "outputs": [
        {
          "output_type": "stream",
          "text": [
            "  % Total    % Received % Xferd  Average Speed   Time    Time     Time  Current\n",
            "                                 Dload  Upload   Total   Spent    Left  Speed\n",
            "100  1815  100  1815    0     0   4481      0 --:--:-- --:--:-- --:--:--  4492\n"
          ],
          "name": "stdout"
        }
      ]
    },
    {
      "cell_type": "markdown",
      "metadata": {
        "id": "UOz8o14gqjAm"
      },
      "source": [
        "# Exploring the data\n",
        "\n",
        "Below, we take a look at the top of the data, and plot the `boston` and `ny` columns"
      ]
    },
    {
      "cell_type": "code",
      "metadata": {
        "colab": {
          "base_uri": "https://localhost:8080/",
          "height": 228
        },
        "id": "izAwP3K3qgV9",
        "outputId": "57262379-1e8a-4cd4-d319-b839989b1e65"
      },
      "source": [
        "boston.head()"
      ],
      "execution_count": 8,
      "outputs": [
        {
          "output_type": "execute_result",
          "data": {
            "text/html": [
              "<div>\n",
              "<style scoped>\n",
              "    .dataframe tbody tr th:only-of-type {\n",
              "        vertical-align: middle;\n",
              "    }\n",
              "\n",
              "    .dataframe tbody tr th {\n",
              "        vertical-align: top;\n",
              "    }\n",
              "\n",
              "    .dataframe thead th {\n",
              "        text-align: right;\n",
              "    }\n",
              "</style>\n",
              "<table border=\"1\" class=\"dataframe\">\n",
              "  <thead>\n",
              "    <tr style=\"text-align: right;\">\n",
              "      <th></th>\n",
              "      <th>boston</th>\n",
              "      <th>ny</th>\n",
              "    </tr>\n",
              "    <tr>\n",
              "      <th>date</th>\n",
              "      <th></th>\n",
              "      <th></th>\n",
              "    </tr>\n",
              "  </thead>\n",
              "  <tbody>\n",
              "    <tr>\n",
              "      <th>1967-01-01</th>\n",
              "      <td>10581.6</td>\n",
              "      <td>78.8</td>\n",
              "    </tr>\n",
              "    <tr>\n",
              "      <th>1967-02-01</th>\n",
              "      <td>10234.3</td>\n",
              "      <td>69.1</td>\n",
              "    </tr>\n",
              "    <tr>\n",
              "      <th>1967-03-01</th>\n",
              "      <td>13299.5</td>\n",
              "      <td>87.6</td>\n",
              "    </tr>\n",
              "    <tr>\n",
              "      <th>1967-04-01</th>\n",
              "      <td>10746.5</td>\n",
              "      <td>72.8</td>\n",
              "    </tr>\n",
              "    <tr>\n",
              "      <th>1967-05-01</th>\n",
              "      <td>13310.7</td>\n",
              "      <td>79.4</td>\n",
              "    </tr>\n",
              "  </tbody>\n",
              "</table>\n",
              "</div>"
            ],
            "text/plain": [
              "             boston    ny\n",
              "date                     \n",
              "1967-01-01  10581.6  78.8\n",
              "1967-02-01  10234.3  69.1\n",
              "1967-03-01  13299.5  87.6\n",
              "1967-04-01  10746.5  72.8\n",
              "1967-05-01  13310.7  79.4"
            ]
          },
          "metadata": {
            "tags": []
          },
          "execution_count": 8
        }
      ]
    },
    {
      "cell_type": "code",
      "metadata": {
        "colab": {
          "base_uri": "https://localhost:8080/",
          "height": 541
        },
        "id": "wy55kWJHqxFe",
        "outputId": "0d08e48e-2063-43dc-d0cb-5338b73d600b"
      },
      "source": [
        "boston['boston'].plot()"
      ],
      "execution_count": 9,
      "outputs": [
        {
          "output_type": "execute_result",
          "data": {
            "text/plain": [
              "<matplotlib.axes._subplots.AxesSubplot at 0x7f70b224b490>"
            ]
          },
          "metadata": {
            "tags": []
          },
          "execution_count": 9
        },
        {
          "output_type": "display_data",
          "data": {
            "image/png": "[encoded data removed]",
            "text/plain": [
              "<Figure size 864x576 with 1 Axes>"
            ]
          },
          "metadata": {
            "tags": [],
            "needs_background": "light"
          }
        }
      ]
    },
    {
      "cell_type": "code",
      "metadata": {
        "colab": {
          "base_uri": "https://localhost:8080/",
          "height": 541
        },
        "id": "KVWQ0Wisq06E",
        "outputId": "a6b8e3af-36af-4b60-cf84-843f93fd7705"
      },
      "source": [
        "boston['ny'].plot()"
      ],
      "execution_count": 10,
      "outputs": [
        {
          "output_type": "execute_result",
          "data": {
            "text/plain": [
              "<matplotlib.axes._subplots.AxesSubplot at 0x7f70b1ad7f50>"
            ]
          },
          "metadata": {
            "tags": []
          },
          "execution_count": 10
        },
        {
          "output_type": "display_data",
          "data": {
            "image/png": "[encoded data removed]",
            "text/plain": [
              "<Figure size 864x576 with 1 Axes>"
            ]
          },
          "metadata": {
            "tags": [],
            "needs_background": "light"
          }
        }
      ]
    },
    {
      "cell_type": "markdown",
      "metadata": {
        "id": "9hhI4I23rU7y"
      },
      "source": [
        "# 1. Plot a Scatter Matrix and Compute Correlations\n",
        "\n",
        "Is there a noticeable relationship between the `boston` and `ny` variables in the scatter plots? Is there a strong correlation?"
      ]
    },
    {
      "cell_type": "code",
      "metadata": {
        "id": "PifcQozaq2h8"
      },
      "source": [
        "# In this cell, plot a scatter matrix plot\n",
        "\n",
        "# YOUR CODE HERE"
      ],
      "execution_count": 26,
      "outputs": []
    },
    {
      "cell_type": "code",
      "metadata": {
        "id": "364I09BFr0UN"
      },
      "source": [
        "# In this cell, compute the correlations\n",
        "\n",
        "# YOUR CODE HERE"
      ],
      "execution_count": 27,
      "outputs": []
    },
    {
      "cell_type": "markdown",
      "metadata": {
        "id": "wtKZ2d5psYIA"
      },
      "source": [
        "# 2. Create a Simple Regression\n",
        "\n",
        "Use `boston` as your dependent (`y`) variable, and `ny` as your dependent (`x`) variable. \n",
        "\n",
        "Is this overall fit significant? Is the coefficient for `ny` significant? Is the intercept term significant?"
      ]
    },
    {
      "cell_type": "code",
      "metadata": {
        "id": "wUBM6_tpsDLc"
      },
      "source": [
        "# In this cell, create a regression model\n",
        "# fit it to your data, and print out the summary\n",
        "\n",
        "# YOUR CODE HERE"
      ],
      "execution_count": 28,
      "outputs": []
    },
    {
      "cell_type": "markdown",
      "metadata": {
        "id": "ZviG838dtNUt"
      },
      "source": [
        "# 3. Checking Residuals\n",
        "\n",
        "For the residuals, do the following:\n",
        "\n",
        "1. Plot the residuals\n",
        "2. Plot the ACF of the residuals\n",
        "3. Calculate the Durbin-Watson Statistic for the residuals\n",
        "\n",
        "Do these methods indicate that there is significant autocorrelation in the resdiduals?"
      ]
    },
    {
      "cell_type": "code",
      "metadata": {
        "id": "nYUBW69-tGgH"
      },
      "source": [
        "# In this cell, plot the residuals\n",
        "\n",
        "# YOUR CODE HERE"
      ],
      "execution_count": 29,
      "outputs": []
    },
    {
      "cell_type": "code",
      "metadata": {
        "id": "SHbAgF17tv9T"
      },
      "source": [
        "# In this cell, plot the ACF plot of the residuals\n",
        "\n",
        "# YOUR CODE HERE"
      ],
      "execution_count": 30,
      "outputs": []
    },
    {
      "cell_type": "code",
      "metadata": {
        "id": "NgeHCbKut5Zx"
      },
      "source": [
        "# In this cell, calculate the Durbin-Watson Statistic\n",
        "\n",
        "# YOUR CODE HERE"
      ],
      "execution_count": 31,
      "outputs": []
    },
    {
      "cell_type": "markdown",
      "metadata": {
        "id": "JpJoSBc-uL1x"
      },
      "source": [
        "# 4. Fitting a Regression with Monthly Dummy Variables\n",
        "\n",
        "We'll now use the `boston_months` `DataFrame` to fit a regression that includes monthly dummy variables. Let's first take a look at the data:"
      ]
    },
    {
      "cell_type": "code",
      "metadata": {
        "colab": {
          "base_uri": "https://localhost:8080/",
          "height": 228
        },
        "id": "kgO108bNuH3G",
        "outputId": "4a95ee89-f13b-4e55-c072-06f7630a9835"
      },
      "source": [
        "boston_months.head()"
      ],
      "execution_count": 23,
      "outputs": [
        {
          "output_type": "execute_result",
          "data": {
            "text/html": [
              "<div>\n",
              "<style scoped>\n",
              "    .dataframe tbody tr th:only-of-type {\n",
              "        vertical-align: middle;\n",
              "    }\n",
              "\n",
              "    .dataframe tbody tr th {\n",
              "        vertical-align: top;\n",
              "    }\n",
              "\n",
              "    .dataframe thead th {\n",
              "        text-align: right;\n",
              "    }\n",
              "</style>\n",
              "<table border=\"1\" class=\"dataframe\">\n",
              "  <thead>\n",
              "    <tr style=\"text-align: right;\">\n",
              "      <th></th>\n",
              "      <th>boston</th>\n",
              "      <th>ny</th>\n",
              "      <th>month_1</th>\n",
              "      <th>month_2</th>\n",
              "      <th>month_3</th>\n",
              "      <th>month_4</th>\n",
              "      <th>month_5</th>\n",
              "      <th>month_6</th>\n",
              "      <th>month_7</th>\n",
              "      <th>month_8</th>\n",
              "      <th>month_9</th>\n",
              "      <th>month_10</th>\n",
              "      <th>month_11</th>\n",
              "      <th>month_12</th>\n",
              "    </tr>\n",
              "    <tr>\n",
              "      <th>date</th>\n",
              "      <th></th>\n",
              "      <th></th>\n",
              "      <th></th>\n",
              "      <th></th>\n",
              "      <th></th>\n",
              "      <th></th>\n",
              "      <th></th>\n",
              "      <th></th>\n",
              "      <th></th>\n",
              "      <th></th>\n",
              "      <th></th>\n",
              "      <th></th>\n",
              "      <th></th>\n",
              "      <th></th>\n",
              "    </tr>\n",
              "  </thead>\n",
              "  <tbody>\n",
              "    <tr>\n",
              "      <th>1967-01-01</th>\n",
              "      <td>10581.6</td>\n",
              "      <td>78.8</td>\n",
              "      <td>1</td>\n",
              "      <td>0</td>\n",
              "      <td>0</td>\n",
              "      <td>0</td>\n",
              "      <td>0</td>\n",
              "      <td>0</td>\n",
              "      <td>0</td>\n",
              "      <td>0</td>\n",
              "      <td>0</td>\n",
              "      <td>0</td>\n",
              "      <td>0</td>\n",
              "      <td>0</td>\n",
              "    </tr>\n",
              "    <tr>\n",
              "      <th>1967-02-01</th>\n",
              "      <td>10234.3</td>\n",
              "      <td>69.1</td>\n",
              "      <td>0</td>\n",
              "      <td>1</td>\n",
              "      <td>0</td>\n",
              "      <td>0</td>\n",
              "      <td>0</td>\n",
              "      <td>0</td>\n",
              "      <td>0</td>\n",
              "      <td>0</td>\n",
              "      <td>0</td>\n",
              "      <td>0</td>\n",
              "      <td>0</td>\n",
              "      <td>0</td>\n",
              "    </tr>\n",
              "    <tr>\n",
              "      <th>1967-03-01</th>\n",
              "      <td>13299.5</td>\n",
              "      <td>87.6</td>\n",
              "      <td>0</td>\n",
              "      <td>0</td>\n",
              "      <td>1</td>\n",
              "      <td>0</td>\n",
              "      <td>0</td>\n",
              "      <td>0</td>\n",
              "      <td>0</td>\n",
              "      <td>0</td>\n",
              "      <td>0</td>\n",
              "      <td>0</td>\n",
              "      <td>0</td>\n",
              "      <td>0</td>\n",
              "    </tr>\n",
              "    <tr>\n",
              "      <th>1967-04-01</th>\n",
              "      <td>10746.5</td>\n",
              "      <td>72.8</td>\n",
              "      <td>0</td>\n",
              "      <td>0</td>\n",
              "      <td>0</td>\n",
              "      <td>1</td>\n",
              "      <td>0</td>\n",
              "      <td>0</td>\n",
              "      <td>0</td>\n",
              "      <td>0</td>\n",
              "      <td>0</td>\n",
              "      <td>0</td>\n",
              "      <td>0</td>\n",
              "      <td>0</td>\n",
              "    </tr>\n",
              "    <tr>\n",
              "      <th>1967-05-01</th>\n",
              "      <td>13310.7</td>\n",
              "      <td>79.4</td>\n",
              "      <td>0</td>\n",
              "      <td>0</td>\n",
              "      <td>0</td>\n",
              "      <td>0</td>\n",
              "      <td>1</td>\n",
              "      <td>0</td>\n",
              "      <td>0</td>\n",
              "      <td>0</td>\n",
              "      <td>0</td>\n",
              "      <td>0</td>\n",
              "      <td>0</td>\n",
              "      <td>0</td>\n",
              "    </tr>\n",
              "  </tbody>\n",
              "</table>\n",
              "</div>"
            ],
            "text/plain": [
              "             boston    ny  month_1  ...  month_10  month_11  month_12\n",
              "date                                ...                              \n",
              "1967-01-01  10581.6  78.8        1  ...         0         0         0\n",
              "1967-02-01  10234.3  69.1        0  ...         0         0         0\n",
              "1967-03-01  13299.5  87.6        0  ...         0         0         0\n",
              "1967-04-01  10746.5  72.8        0  ...         0         0         0\n",
              "1967-05-01  13310.7  79.4        0  ...         0         0         0\n",
              "\n",
              "[5 rows x 14 columns]"
            ]
          },
          "metadata": {
            "tags": []
          },
          "execution_count": 23
        }
      ]
    },
    {
      "cell_type": "markdown",
      "metadata": {
        "id": "IAK_PgIbumJt"
      },
      "source": [
        "In the cell below, create a regression model for the `boston_months` data, with the `boston` variable as the dependent (`y`) variable, and `ny` and the `month_` variables as the independent variables. "
      ]
    },
    {
      "cell_type": "code",
      "metadata": {
        "id": "bI0a9KTNuib4"
      },
      "source": [
        "# YOUR CODE HERE"
      ],
      "execution_count": 32,
      "outputs": []
    },
    {
      "cell_type": "markdown",
      "metadata": {
        "id": "07dWD1M0vNbW"
      },
      "source": [
        "Some of the monthly variables above may not be significant. Try removing them from the formula and repeating the regression. Does the adjusted $R^2$ value improve?"
      ]
    },
    {
      "cell_type": "code",
      "metadata": {
        "id": "XOMUHpiZvGtd"
      },
      "source": [
        "# In this cell, create a new regression with months that are not\n",
        "# significant removed\n",
        "\n",
        "# YOUR CODE HERE"
      ],
      "execution_count": 33,
      "outputs": []
    }
  ]
}