{
  "nbformat": 4,
  "nbformat_minor": 0,
  "metadata": {
    "colab": {
      "name": "STL and SES Lab",
      "provenance": [],
      "collapsed_sections": [
        "SFqJXjoh9zES",
        "H77yOK-mCTBR",
        "33rKddcEEUJa"
      ],
      "authorship_tag": "ABX9TyPfZ97/NZX18kDDI91mmNVP",
      "include_colab_link": true
    },
    "kernelspec": {
      "name": "python3",
      "display_name": "Python 3"
    }
  },
  "cells": [
    {
      "cell_type": "markdown",
      "metadata": {
        "id": "view-in-github",
        "colab_type": "text"
      },
      "source": [
        "<a href=\"https://colab.research.google.com/github/ZacharySBrown/vcu-scma440-2021q1/blob/master/labs/STL_and_SES_Lab.ipynb\" target=\"_parent\"><img src=\"https://colab.research.google.com/assets/colab-badge.svg\" alt=\"Open In Colab\"/></a>"
      ]
    },
    {
      "cell_type": "markdown",
      "metadata": {
        "id": "SFqJXjoh9zES"
      },
      "source": [
        "# Setup and Fetch Data\n",
        "\n",
        "Press the play button in Google Colab or press `Shift+Enter` execute the cell below to download and load the data and packages for this assignment\n",
        "\n",
        "This will load four `pandas` `DataFrame` objects: `shampoo`,`housing`, `airline`, and `airline_series`.\n",
        "Each of these is used in Makridakis Chapter 3, as well as the `can_opener` data used in Makridakis Chapter 4. "
      ]
    },
    {
      "cell_type": "code",
      "metadata": {
        "colab": {
          "base_uri": "https://localhost:8080/",
          "height": 0
        },
        "id": "dF6pXFl99FwM",
        "outputId": "f3a715b8-f103-43c3-e9d0-43f68c15cdb5"
      },
      "source": [
        "import pandas as pd\n",
        "from numpy import log, abs, mean, exp\n",
        "from IPython.display import display\n",
        "from matplotlib import pyplot as plt\n",
        "%matplotlib inline\n",
        "plt.rcParams['figure.figsize'] = (12, 8)\n",
        "plt.rcParams['font.size'] = 16\n",
        "\n",
        "!curl https://raw.githubusercontent.com/ZacharySBrown/vcu-scma440-2021q1/master/utils/fetch_e4.sh > fetch_e4.sh\n",
        "!bash fetch_e4.sh\n",
        "\n",
        "# Example\n",
        "shampoo = pd.read_csv('shampoo_sales.csv', parse_dates=['date']).set_index('date')\n",
        "housing = pd.read_csv('housing_sales.csv', parse_dates=['date']).set_index('date')\n",
        "airline = pd.read_csv('airline.csv').set_index('year')\n",
        "airline_series = pd.read_csv('airline_series.csv', parse_dates=['date']).set_index('date')\n",
        "can_openers = pd.read_csv('can_openers.csv', parse_dates=['month']).set_index('month')\n",
        "\n",
        "!pip install -U statsmodels\n",
        "\n",
        "from IPython.display import display_html\n",
        "def restartkernel() :\n",
        "  print(\"restarting kernel to reflect package installation\")\n",
        "  display_html(\"<script>Jupyter.notebook.kernel.restart()</script>\",raw=True)\n",
        "\n",
        "restartkernel()\n",
        "\n",
        "from statsmodels.tsa.seasonal import STL\n",
        "\n",
        "from statsmodels.tsa.api import ExponentialSmoothing, SimpleExpSmoothing, Holt\n"
      ],
      "execution_count": 1,
      "outputs": [
        {
          "output_type": "stream",
          "text": [
            "  % Total    % Received % Xferd  Average Speed   Time    Time     Time  Current\n",
            "                                 Dload  Upload   Total   Spent    Left  Speed\n",
            "100   477  100   477    0     0   1386      0 --:--:-- --:--:-- --:--:--  1386\n",
            "  % Total    % Received % Xferd  Average Speed   Time    Time     Time  Current\n",
            "                                 Dload  Upload   Total   Spent    Left  Speed\n",
            "100   629  100   629    0     0    803      0 --:--:-- --:--:-- --:--:--   802\n",
            "  % Total    % Received % Xferd  Average Speed   Time    Time     Time  Current\n",
            "                                 Dload  Upload   Total   Spent    Left  Speed\n",
            "100  3867  100  3867    0     0   4827      0 --:--:-- --:--:-- --:--:--  4821\n",
            "  % Total    % Received % Xferd  Average Speed   Time    Time     Time  Current\n",
            "                                 Dload  Upload   Total   Spent    Left  Speed\n",
            "100   456  100   456    0     0    554      0 --:--:-- --:--:-- --:--:--   553\n",
            "  % Total    % Received % Xferd  Average Speed   Time    Time     Time  Current\n",
            "                                 Dload  Upload   Total   Spent    Left  Speed\n",
            "100  1456  100  1456    0     0   1923      0 --:--:-- --:--:-- --:--:--  1923\n",
            "  % Total    % Received % Xferd  Average Speed   Time    Time     Time  Current\n",
            "                                 Dload  Upload   Total   Spent    Left  Speed\n",
            "100   151  100   151    0     0    195      0 --:--:-- --:--:-- --:--:--   195\n",
            "Requirement already up-to-date: statsmodels in /usr/local/lib/python3.6/dist-packages (0.12.2)\n",
            "Requirement already satisfied, skipping upgrade: pandas>=0.21 in /usr/local/lib/python3.6/dist-packages (from statsmodels) (1.1.5)\n",
            "Requirement already satisfied, skipping upgrade: patsy>=0.5 in /usr/local/lib/python3.6/dist-packages (from statsmodels) (0.5.1)\n",
            "Requirement already satisfied, skipping upgrade: numpy>=1.15 in /usr/local/lib/python3.6/dist-packages (from statsmodels) (1.19.5)\n",
            "Requirement already satisfied, skipping upgrade: scipy>=1.1 in /usr/local/lib/python3.6/dist-packages (from statsmodels) (1.4.1)\n",
            "Requirement already satisfied, skipping upgrade: pytz>=2017.2 in /usr/local/lib/python3.6/dist-packages (from pandas>=0.21->statsmodels) (2018.9)\n",
            "Requirement already satisfied, skipping upgrade: python-dateutil>=2.7.3 in /usr/local/lib/python3.6/dist-packages (from pandas>=0.21->statsmodels) (2.8.1)\n",
            "Requirement already satisfied, skipping upgrade: six in /usr/local/lib/python3.6/dist-packages (from patsy>=0.5->statsmodels) (1.15.0)\n",
            "restarting kernel to reflect package installation\n"
          ],
          "name": "stdout"
        },
        {
          "output_type": "display_data",
          "data": {
            "text/html": [
              "<script>Jupyter.notebook.kernel.restart()</script>"
            ]
          },
          "metadata": {
            "tags": []
          }
        }
      ]
    },
    {
      "cell_type": "markdown",
      "metadata": {
        "id": "3QIc7f2j-erf"
      },
      "source": [
        "# 1: STL Decomposition\n",
        "\n",
        "1. Create an STL decomposition of the `airline_series` data, plot, and compute the MSE (`(results.resid**2).mean()`)\n",
        "\n",
        "2. Redo the decomposition with `robust=False`, replot, and calculate the MSE. Is the MSE better or worse with robustness turned off?\n"
      ]
    },
    {
      "cell_type": "code",
      "metadata": {
        "id": "hAkqdDV9-WhE"
      },
      "source": [
        "# YOUR CODE HERE\n"
      ],
      "execution_count": 2,
      "outputs": []
    },
    {
      "cell_type": "code",
      "metadata": {
        "id": "WM6SW9Hs-Yfk"
      },
      "source": [
        "# YOUR CODE HERE\n"
      ],
      "execution_count": 3,
      "outputs": []
    },
    {
      "cell_type": "markdown",
      "metadata": {
        "id": "H77yOK-mCTBR"
      },
      "source": [
        "# 2: Running and Moving Average Forecasts\n",
        "\n",
        "For the `airline_series` data:\n",
        "\n",
        "1. Compute a running average (`running_average`), and two moving average **MA(k)** _forecasts_, for `k=3` and for `k=5`\n",
        "\n",
        "2. Plot all three forecasts\n",
        "\n",
        "For the `can_opener` data,  do the same. \n",
        "\n",
        "Are either of these methods reasonable for these data sets?\n"
      ]
    },
    {
      "cell_type": "code",
      "metadata": {
        "id": "_3CYeU0-CCCY"
      },
      "source": [
        "# YOUR CODE HERE\n"
      ],
      "execution_count": 4,
      "outputs": []
    },
    {
      "cell_type": "code",
      "metadata": {
        "id": "xVJco8KODRbD"
      },
      "source": [
        "# YOUR CODE HERE\n"
      ],
      "execution_count": 5,
      "outputs": []
    },
    {
      "cell_type": "markdown",
      "metadata": {
        "id": "33rKddcEEUJa"
      },
      "source": [
        "# 3: Single Exponential Smoothing\n",
        "\n",
        "For the `airline_series` data:\n",
        "\n",
        "1. Compute and plot an exponential smoother with several different values, and plot (use the first value of the data as the initial forecast level)\n",
        "2. Compute the MSE for each of the smoothers. Which one is the best?"
      ]
    },
    {
      "cell_type": "code",
      "metadata": {
        "id": "l0pRm09MECPJ"
      },
      "source": [
        "# YOUR CODE HERE\n"
      ],
      "execution_count": 6,
      "outputs": []
    },
    {
      "cell_type": "code",
      "metadata": {
        "id": "ZbsjiRO8Fudm"
      },
      "source": [
        "# YOUR CODE HERE\n"
      ],
      "execution_count": 7,
      "outputs": []
    }
  ]
}