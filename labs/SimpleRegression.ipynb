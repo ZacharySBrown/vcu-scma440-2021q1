{
  "nbformat": 4,
  "nbformat_minor": 0,
  "metadata": {
    "kernelspec": {
      "display_name": "Python 3",
      "language": "python",
      "name": "python3"
    },
    "language_info": {
      "codemirror_mode": {
        "name": "ipython",
        "version": 3
      },
      "file_extension": ".py",
      "mimetype": "text/x-python",
      "name": "python",
      "nbconvert_exporter": "python",
      "pygments_lexer": "ipython3",
      "version": "3.7.4"
    },
    "colab": {
      "name": "SimpleRegression.ipynb",
      "provenance": [],
      "include_colab_link": true
    }
  },
  "cells": [
    {
      "cell_type": "markdown",
      "metadata": {
        "id": "view-in-github",
        "colab_type": "text"
      },
      "source": [
        "<a href=\"https://colab.research.google.com/github/ZacharySBrown/vcu-scma440-2021q1/blob/master/labs/SimpleRegression.ipynb\" target=\"_parent\"><img src=\"https://colab.research.google.com/assets/colab-badge.svg\" alt=\"Open In Colab\"/></a>"
      ]
    },
    {
      "cell_type": "markdown",
      "metadata": {
        "id": "T-Xn8SkB5lSf"
      },
      "source": [
        "# Setup and Fetch Data\n",
        "Press the play button in Google Colab or press Shift+Enter execute the cell below to download and load the data and packages for this assignment\n",
        "\n",
        "This will setup you environment and a `DataFrame`, with four columns, `sales`, `site_visits`, `total_customers`, and `production_cost`"
      ]
    },
    {
      "cell_type": "code",
      "metadata": {
        "id": "cvQr78aO5lSh"
      },
      "source": [
        "import pandas as pd\n",
        "import statsmodels.api as sm\n",
        "from statsmodels.formula.api import ols\n",
        "import numpy as np\n",
        "np.random.seed(42)\n",
        "from matplotlib import pyplot as plt\n",
        "\n",
        "from scipy.stats import t, f\n",
        "\n",
        "%matplotlib inline\n",
        "\n",
        "plt.rcParams['figure.figsize'] = (12, 8)\n",
        "plt.rcParams['font.size'] = 16\n",
        "\n",
        "sales = np.linspace(100, 800, 100)\n",
        "\n",
        "a = 100\n",
        "b = 0.5\n",
        "gamma = 50\n",
        "\n",
        "# We have a simple linear relationship between site visits and sales\n",
        "site_visits = a + b*sales + np.random.randn(sales.shape[0])*gamma\n",
        "\n",
        "# We have a slightly more complicated relationship\n",
        "# between sales and total customers. Our sales \n",
        "# plateau once we reach some level of customers\n",
        "total_customers = (1-sales)**2/200\n",
        "total_customers = total_customers + np.random.randn(sales.shape[0])*600\n",
        "total_customers = np.abs(total_customers)\n",
        "\n",
        "production_cost = -np.sqrt(sales*10) + sales.max() + np.random.randn(sales.shape[0])*10\n",
        "\n",
        "\n",
        "data = pd.DataFrame(\n",
        "    {\n",
        "        'sales': sales, \n",
        "        'site_visits': site_visits,\n",
        "        'total_customers': total_customers, \n",
        "        'production_cost': production_cost\n",
        "    }\n",
        ")"
      ],
      "execution_count": 15,
      "outputs": []
    },
    {
      "cell_type": "markdown",
      "metadata": {
        "id": "Gq58I40k5lSl"
      },
      "source": [
        "# Inspecting the data\n",
        "\n",
        "We have four columns in our `DataFrame`:\n",
        "* **`sales`**: Total sales for the online company\n",
        "* **`site_visits`**: Total visits to the company e-commerce site\n",
        "* **`total_customers`**: Total number of customers at the time of the reported sales\n",
        "* **`production_cost`**: Total production cost at the time of the reported sales"
      ]
    },
    {
      "cell_type": "code",
      "metadata": {
        "colab": {
          "base_uri": "https://localhost:8080/",
          "height": 0
        },
        "id": "RbgLMwp15lSl",
        "outputId": "f61f912e-136f-44e7-df5a-020a8514aa8a"
      },
      "source": [
        "data.head()"
      ],
      "execution_count": 16,
      "outputs": [
        {
          "output_type": "execute_result",
          "data": {
            "text/html": [
              "<div>\n",
              "<style scoped>\n",
              "    .dataframe tbody tr th:only-of-type {\n",
              "        vertical-align: middle;\n",
              "    }\n",
              "\n",
              "    .dataframe tbody tr th {\n",
              "        vertical-align: top;\n",
              "    }\n",
              "\n",
              "    .dataframe thead th {\n",
              "        text-align: right;\n",
              "    }\n",
              "</style>\n",
              "<table border=\"1\" class=\"dataframe\">\n",
              "  <thead>\n",
              "    <tr style=\"text-align: right;\">\n",
              "      <th></th>\n",
              "      <th>sales</th>\n",
              "      <th>site_visits</th>\n",
              "      <th>total_customers</th>\n",
              "      <th>production_cost</th>\n",
              "    </tr>\n",
              "  </thead>\n",
              "  <tbody>\n",
              "    <tr>\n",
              "      <th>0</th>\n",
              "      <td>100.000000</td>\n",
              "      <td>174.835708</td>\n",
              "      <td>800.217445</td>\n",
              "      <td>771.955097</td>\n",
              "    </tr>\n",
              "    <tr>\n",
              "      <th>1</th>\n",
              "      <td>107.070707</td>\n",
              "      <td>146.622138</td>\n",
              "      <td>196.132219</td>\n",
              "      <td>772.886185</td>\n",
              "    </tr>\n",
              "    <tr>\n",
              "      <th>2</th>\n",
              "      <td>114.141414</td>\n",
              "      <td>189.455134</td>\n",
              "      <td>141.623812</td>\n",
              "      <td>777.045691</td>\n",
              "    </tr>\n",
              "    <tr>\n",
              "      <th>3</th>\n",
              "      <td>121.212121</td>\n",
              "      <td>236.757553</td>\n",
              "      <td>409.111591</td>\n",
              "      <td>775.722489</td>\n",
              "    </tr>\n",
              "    <tr>\n",
              "      <th>4</th>\n",
              "      <td>128.282828</td>\n",
              "      <td>152.433745</td>\n",
              "      <td>15.766835</td>\n",
              "      <td>750.406714</td>\n",
              "    </tr>\n",
              "  </tbody>\n",
              "</table>\n",
              "</div>"
            ],
            "text/plain": [
              "        sales  site_visits  total_customers  production_cost\n",
              "0  100.000000   174.835708       800.217445       771.955097\n",
              "1  107.070707   146.622138       196.132219       772.886185\n",
              "2  114.141414   189.455134       141.623812       777.045691\n",
              "3  121.212121   236.757553       409.111591       775.722489\n",
              "4  128.282828   152.433745        15.766835       750.406714"
            ]
          },
          "metadata": {
            "tags": []
          },
          "execution_count": 16
        }
      ]
    },
    {
      "cell_type": "code",
      "metadata": {
        "colab": {
          "base_uri": "https://localhost:8080/",
          "height": 0
        },
        "id": "YtcuZLHi5lSm",
        "outputId": "0ff219f6-dd37-4038-f7cd-a661bd9d4eaf"
      },
      "source": [
        "data.describe()"
      ],
      "execution_count": 17,
      "outputs": [
        {
          "output_type": "execute_result",
          "data": {
            "text/html": [
              "<div>\n",
              "<style scoped>\n",
              "    .dataframe tbody tr th:only-of-type {\n",
              "        vertical-align: middle;\n",
              "    }\n",
              "\n",
              "    .dataframe tbody tr th {\n",
              "        vertical-align: top;\n",
              "    }\n",
              "\n",
              "    .dataframe thead th {\n",
              "        text-align: right;\n",
              "    }\n",
              "</style>\n",
              "<table border=\"1\" class=\"dataframe\">\n",
              "  <thead>\n",
              "    <tr style=\"text-align: right;\">\n",
              "      <th></th>\n",
              "      <th>sales</th>\n",
              "      <th>site_visits</th>\n",
              "      <th>total_customers</th>\n",
              "      <th>production_cost</th>\n",
              "    </tr>\n",
              "  </thead>\n",
              "  <tbody>\n",
              "    <tr>\n",
              "      <th>count</th>\n",
              "      <td>100.000000</td>\n",
              "      <td>100.000000</td>\n",
              "      <td>100.000000</td>\n",
              "      <td>100.000000</td>\n",
              "    </tr>\n",
              "    <tr>\n",
              "      <th>mean</th>\n",
              "      <td>450.000000</td>\n",
              "      <td>319.807674</td>\n",
              "      <td>1324.385297</td>\n",
              "      <td>735.560448</td>\n",
              "    </tr>\n",
              "    <tr>\n",
              "      <th>std</th>\n",
              "      <td>205.131761</td>\n",
              "      <td>114.001146</td>\n",
              "      <td>976.048028</td>\n",
              "      <td>20.545249</td>\n",
              "    </tr>\n",
              "    <tr>\n",
              "      <th>min</th>\n",
              "      <td>100.000000</td>\n",
              "      <td>100.295584</td>\n",
              "      <td>15.766835</td>\n",
              "      <td>694.212683</td>\n",
              "    </tr>\n",
              "    <tr>\n",
              "      <th>25%</th>\n",
              "      <td>275.000000</td>\n",
              "      <td>218.702006</td>\n",
              "      <td>454.341382</td>\n",
              "      <td>719.872998</td>\n",
              "    </tr>\n",
              "    <tr>\n",
              "      <th>50%</th>\n",
              "      <td>450.000000</td>\n",
              "      <td>312.123104</td>\n",
              "      <td>1230.943489</td>\n",
              "      <td>733.498833</td>\n",
              "    </tr>\n",
              "    <tr>\n",
              "      <th>75%</th>\n",
              "      <td>625.000000</td>\n",
              "      <td>417.046896</td>\n",
              "      <td>2094.050052</td>\n",
              "      <td>748.206605</td>\n",
              "    </tr>\n",
              "    <tr>\n",
              "      <th>max</th>\n",
              "      <td>800.000000</td>\n",
              "      <td>520.149421</td>\n",
              "      <td>3794.197307</td>\n",
              "      <td>798.075323</td>\n",
              "    </tr>\n",
              "  </tbody>\n",
              "</table>\n",
              "</div>"
            ],
            "text/plain": [
              "            sales  site_visits  total_customers  production_cost\n",
              "count  100.000000   100.000000       100.000000       100.000000\n",
              "mean   450.000000   319.807674      1324.385297       735.560448\n",
              "std    205.131761   114.001146       976.048028        20.545249\n",
              "min    100.000000   100.295584        15.766835       694.212683\n",
              "25%    275.000000   218.702006       454.341382       719.872998\n",
              "50%    450.000000   312.123104      1230.943489       733.498833\n",
              "75%    625.000000   417.046896      2094.050052       748.206605\n",
              "max    800.000000   520.149421      3794.197307       798.075323"
            ]
          },
          "metadata": {
            "tags": []
          },
          "execution_count": 17
        }
      ]
    },
    {
      "cell_type": "markdown",
      "metadata": {
        "id": "A32TfSog5lSm"
      },
      "source": [
        "# Example: Creating a fit for site visits\n",
        "\n",
        "For this example, we'll: \n",
        "* Create a model to fit sales ($Y$) vs. site visits ($X$)\n",
        "* Print out the fit results\n",
        "* Plot the fitted values\n",
        "* Plot the residuals\n",
        "\n",
        "Let's start by creating a scatter plot for the `sales` vs. `site_visits`: "
      ]
    },
    {
      "cell_type": "code",
      "metadata": {
        "colab": {
          "base_uri": "https://localhost:8080/",
          "height": 0
        },
        "id": "B35dmmIP5lSn",
        "outputId": "dc91ac48-59dc-4ca8-dcfb-cba09d82ccce"
      },
      "source": [
        "data.plot.scatter('site_visits','sales')"
      ],
      "execution_count": 18,
      "outputs": [
        {
          "output_type": "execute_result",
          "data": {
            "text/plain": [
              "<matplotlib.axes._subplots.AxesSubplot at 0x7f5ecaeb9190>"
            ]
          },
          "metadata": {
            "tags": []
          },
          "execution_count": 18
        },
        {
          "output_type": "display_data",
          "data": {
            "image/png": "[encoded data removed]",
            "text/plain": [
              "<Figure size 864x576 with 1 Axes>"
            ]
          },
          "metadata": {
            "tags": [],
            "needs_background": "light"
          }
        }
      ]
    },
    {
      "cell_type": "markdown",
      "metadata": {
        "id": "K_j3IdI25lSn"
      },
      "source": [
        "Next, let's create the model, fitting the data, and printing out the fit results:"
      ]
    },
    {
      "cell_type": "code",
      "metadata": {
        "colab": {
          "base_uri": "https://localhost:8080/"
        },
        "id": "Mkve1KyW5lSo",
        "outputId": "786eaf84-b20e-42b6-9556-82780ab1dfa6"
      },
      "source": [
        "# Create an instance of an OLS model\n",
        "model = ols(formula='sales ~ site_visits + 1', data=data)\n",
        "results = model.fit()\n",
        "\n",
        "print(results.summary())"
      ],
      "execution_count": 19,
      "outputs": [
        {
          "output_type": "stream",
          "text": [
            "                            OLS Regression Results                            \n",
            "==============================================================================\n",
            "Dep. Variable:                  sales   R-squared:                       0.842\n",
            "Model:                            OLS   Adj. R-squared:                  0.840\n",
            "Method:                 Least Squares   F-statistic:                     520.9\n",
            "Date:                Mon, 08 Mar 2021   Prob (F-statistic):           5.27e-41\n",
            "Time:                        22:20:40   Log-Likelihood:                -581.61\n",
            "No. Observations:                 100   AIC:                             1167.\n",
            "Df Residuals:                      98   BIC:                             1172.\n",
            "Df Model:                           1                                         \n",
            "Covariance Type:            nonrobust                                         \n",
            "===============================================================================\n",
            "                  coef    std err          t      P>|t|      [0.025      0.975]\n",
            "-------------------------------------------------------------------------------\n",
            "Intercept     -77.9353     24.543     -3.175      0.002    -126.640     -29.231\n",
            "site_visits     1.6508      0.072     22.824      0.000       1.507       1.794\n",
            "==============================================================================\n",
            "Omnibus:                        0.371   Durbin-Watson:                   1.719\n",
            "Prob(Omnibus):                  0.831   Jarque-Bera (JB):                0.087\n",
            "Skew:                           0.032   Prob(JB):                        0.957\n",
            "Kurtosis:                       3.129   Cond. No.                     1.02e+03\n",
            "==============================================================================\n",
            "\n",
            "Warnings:\n",
            "[1] Standard Errors assume that the covariance matrix of the errors is correctly specified.\n",
            "[2] The condition number is large, 1.02e+03. This might indicate that there are\n",
            "strong multicollinearity or other numerical problems.\n"
          ],
          "name": "stdout"
        }
      ]
    },
    {
      "cell_type": "markdown",
      "metadata": {
        "id": "wg8XMXE-5lSo"
      },
      "source": [
        "**Is the fit significant (_hint: check the p-value for the F-statistic_)?**\n",
        "\n",
        "**Are the estimated values for the slope and intercept significant?**\n",
        "\n",
        "Now let's plot the `results.fittedvalues` on top of the scatter plot for a qualitative estimate of the goodness of fit"
      ]
    },
    {
      "cell_type": "code",
      "metadata": {
        "colab": {
          "base_uri": "https://localhost:8080/",
          "height": 0
        },
        "id": "oQVYgFlP5lSp",
        "outputId": "12d1d948-5124-4c02-bc1b-6d087c871c7d"
      },
      "source": [
        "data.plot.scatter('site_visits','sales')\n",
        "\n",
        "plt.plot(data['site_visits'], results.fittedvalues, color='red')"
      ],
      "execution_count": 20,
      "outputs": [
        {
          "output_type": "execute_result",
          "data": {
            "text/plain": [
              "[<matplotlib.lines.Line2D at 0x7f5ecae5dad0>]"
            ]
          },
          "metadata": {
            "tags": []
          },
          "execution_count": 20
        },
        {
          "output_type": "display_data",
          "data": {
            "image/png": "[encoded data removed]",
            "text/plain": [
              "<Figure size 864x576 with 1 Axes>"
            ]
          },
          "metadata": {
            "tags": [],
            "needs_background": "light"
          }
        }
      ]
    },
    {
      "cell_type": "code",
      "metadata": {
        "colab": {
          "base_uri": "https://localhost:8080/",
          "height": 0
        },
        "id": "fUY-eHI25lSp",
        "outputId": "3db3f76d-51a0-48cb-90a5-fa9d79d4d835"
      },
      "source": [
        "residuals = results.resid\n",
        "\n",
        "plt.plot(data['site_visits'], residuals, linestyle='', marker='.')"
      ],
      "execution_count": 21,
      "outputs": [
        {
          "output_type": "execute_result",
          "data": {
            "text/plain": [
              "[<matplotlib.lines.Line2D at 0x7f5ecadc12d0>]"
            ]
          },
          "metadata": {
            "tags": []
          },
          "execution_count": 21
        },
        {
          "output_type": "display_data",
          "data": {
            "image/png": "[encoded data removed]",
            "text/plain": [
              "<Figure size 864x576 with 1 Axes>"
            ]
          },
          "metadata": {
            "tags": [],
            "needs_background": "light"
          }
        }
      ]
    },
    {
      "cell_type": "markdown",
      "metadata": {
        "id": "1U-IrLBE5lSq"
      },
      "source": [
        "# Repeat Regression Analysis Above for `total_customers`\n",
        "\n",
        "In the first cell below, do the following:\n",
        "* Create a scatter plot of the data\n",
        "* Create a model instance with the correct formula\n",
        "* Fit the model to generate results and display the summary with `print(results.summary()`\n",
        "* Plot `results.fittedvalues` as above on the same axes as the scatter plot of the original data\n",
        "\n",
        "In the second cell, plot the residuals. Are the residuals randomly distributed, or do you notice a pattern?"
      ]
    },
    {
      "cell_type": "code",
      "metadata": {
        "id": "Oc6WZiRw5lSq"
      },
      "source": [
        "# YOUR CODE HERE"
      ],
      "execution_count": 28,
      "outputs": []
    },
    {
      "cell_type": "code",
      "metadata": {
        "id": "Icb8LF_Y5lSr"
      },
      "source": [
        "# YOUR CODE HERE"
      ],
      "execution_count": 30,
      "outputs": []
    },
    {
      "cell_type": "markdown",
      "metadata": {
        "id": "OO0NAX5U5lSs"
      },
      "source": [
        "# Repeat Regression Analysis Above for `production_cost`\n",
        "\n",
        "In the first cell below, do the following:\n",
        "* Create a scatter plot of the data\n",
        "* Create a model instance with the correct formula\n",
        "* Fit the model to generate results and display the summary with `print(results.summary()`\n",
        "* Plot `results.fittedvalues` as above on the same axes as the scatter plot of the original data\n",
        "\n",
        "In the second cell, plot the residuals. Are the residuals randomly distributed, or do you notice a pattern?"
      ]
    },
    {
      "cell_type": "code",
      "metadata": {
        "id": "zmgQM7ia5lSs"
      },
      "source": [
        "# YOUR CODE HERE"
      ],
      "execution_count": 31,
      "outputs": []
    },
    {
      "cell_type": "code",
      "metadata": {
        "id": "7uJv41sF5lSt"
      },
      "source": [
        "# YOUR CODE HERE"
      ],
      "execution_count": 32,
      "outputs": []
    }
  ]
}