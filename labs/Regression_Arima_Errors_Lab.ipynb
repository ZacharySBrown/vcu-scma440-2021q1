{
  "nbformat": 4,
  "nbformat_minor": 0,
  "metadata": {
    "colab": {
      "name": "Regression_Arima_Errors_Lab.ipynb",
      "provenance": [],
      "include_colab_link": true
    },
    "kernelspec": {
      "display_name": "Python 3",
      "language": "python",
      "name": "python3"
    },
    "language_info": {
      "codemirror_mode": {
        "name": "ipython",
        "version": 3
      },
      "file_extension": ".py",
      "mimetype": "text/x-python",
      "name": "python",
      "nbconvert_exporter": "python",
      "pygments_lexer": "ipython3",
      "version": "3.7.4"
    }
  },
  "cells": [
    {
      "cell_type": "markdown",
      "metadata": {
        "id": "view-in-github",
        "colab_type": "text"
      },
      "source": [
        "<a href=\"https://colab.research.google.com/github/ZacharySBrown/vcu-scma440-2021q1/blob/master/labs/Regression_Arima_Errors_Lab.ipynb\" target=\"_parent\"><img src=\"https://colab.research.google.com/assets/colab-badge.svg\" alt=\"Open In Colab\"/></a>"
      ]
    },
    {
      "cell_type": "markdown",
      "metadata": {
        "id": "Lz2wua_9URZs"
      },
      "source": [
        "# Setup and Fetch Data\n",
        "Press the play button in Google Colab or press Shift+Enter execute the cell below to download and load the data and packages for this assignment\n",
        "\n",
        "This will setup you environment and load a DataFrame called `bankdata` that contains the bank data from Makridakis Chapter 6."
      ]
    },
    {
      "cell_type": "code",
      "metadata": {
        "colab": {
          "base_uri": "https://localhost:8080/"
        },
        "id": "YcSLvIv5UF7I",
        "outputId": "2a61556a-13c6-4fe9-e828-3f9528ee6b64"
      },
      "source": [
        "!pip install --upgrade statsmodels\n",
        "import pandas as pd\n",
        "import statsmodels.api as sm\n",
        "from statsmodels.formula.api import ols\n",
        "from statsmodels.stats.stattools import durbin_watson\n",
        "from statsmodels.graphics.tsaplots import plot_acf, plot_pacf\n",
        "import numpy as np\n",
        "from matplotlib import pyplot as plt\n",
        "from IPython.display import display\n",
        "from statsmodels.tsa.arima.model import ARIMA\n",
        "#plt.style.use('dark_background')\n",
        "\n",
        "\n",
        "from scipy.stats import t, f\n",
        "\n",
        "%matplotlib inline\n",
        "\n",
        "plt.rcParams['figure.figsize'] = (12, 8)\n",
        "plt.rcParams['font.size'] = 16\n",
        "\n",
        "!curl https://vcu-scma-440.s3.amazonaws.com/data/bankdata.csv > bankdata.csv\n",
        "\n",
        "bankdata = pd.read_csv('bankdata.csv', parse_dates=['date']).set_index('date').rename(columns={'34': 'mo_34'})"
      ],
      "execution_count": 16,
      "outputs": [
        {
          "output_type": "stream",
          "text": [
            "Requirement already up-to-date: statsmodels in /usr/local/lib/python3.7/dist-packages (0.12.2)\n",
            "Requirement already satisfied, skipping upgrade: pandas>=0.21 in /usr/local/lib/python3.7/dist-packages (from statsmodels) (1.1.5)\n",
            "Requirement already satisfied, skipping upgrade: patsy>=0.5 in /usr/local/lib/python3.7/dist-packages (from statsmodels) (0.5.1)\n",
            "Requirement already satisfied, skipping upgrade: numpy>=1.15 in /usr/local/lib/python3.7/dist-packages (from statsmodels) (1.19.5)\n",
            "Requirement already satisfied, skipping upgrade: scipy>=1.1 in /usr/local/lib/python3.7/dist-packages (from statsmodels) (1.4.1)\n",
            "Requirement already satisfied, skipping upgrade: pytz>=2017.2 in /usr/local/lib/python3.7/dist-packages (from pandas>=0.21->statsmodels) (2018.9)\n",
            "Requirement already satisfied, skipping upgrade: python-dateutil>=2.7.3 in /usr/local/lib/python3.7/dist-packages (from pandas>=0.21->statsmodels) (2.8.1)\n",
            "Requirement already satisfied, skipping upgrade: six in /usr/local/lib/python3.7/dist-packages (from patsy>=0.5->statsmodels) (1.15.0)\n",
            "  % Total    % Received % Xferd  Average Speed   Time    Time     Time  Current\n",
            "                                 Dload  Upload   Total   Spent    Left  Speed\n",
            "100  1687  100  1687    0     0  13604      0 --:--:-- --:--:-- --:--:-- 13604\n"
          ],
          "name": "stdout"
        }
      ]
    },
    {
      "cell_type": "markdown",
      "metadata": {
        "id": "3XbtPNSfUvLe"
      },
      "source": [
        "# Inspecting the data\n",
        "\n",
        "Before we get started with any analysis, let's begin by taking a look at the data and plotting the four columns. In the cell below, take a look at the data and plot the time series. It may be useful to plot the `balance` column by itself, and the `aaa` and `mo_34` columns together. \n",
        "\n",
        "Remember, to plot a single column, you type:\n",
        "\n",
        "```\n",
        "display(plot['my_column'].plot())\n",
        "```\n",
        "\n",
        "and to plot two columns, you type:\n",
        "\n",
        "```\n",
        "display(plot[['one_column','another_column']].plot())\n",
        "```\n",
        "\n",
        "(note the _two_ sets of `[]` when you're specifying two columns)"
      ]
    },
    {
      "cell_type": "code",
      "metadata": {
        "id": "7NTRkn0uUff7"
      },
      "source": [
        "# YOUR CODE HERE\n"
      ],
      "execution_count": 25,
      "outputs": []
    },
    {
      "cell_type": "markdown",
      "metadata": {
        "id": "IBCn_c83Vib5"
      },
      "source": [
        "## Creating Difference Variables\n",
        "\n",
        "These series appear to be non-stationary in the mean, so we'll begin by removing that non-stationarity using differencing. We can do this using the `.diff()` function: \n",
        "\n",
        "```\n",
        "data['my_diff_column'] = data['my_original_column'].diff()\n",
        "```\n",
        "\n",
        "Below we'll carry this out for the `balance`, `aaa`, and `mo_34` columns, naming the new columns containing the differences as `d_balance`, `d_aaa`, and `d_mo_34`. \n",
        "\n",
        "**Note here that this introduces a single row with `NaN` in it from taking the first difference, which we'll drop using `data = data.dropna()`**\n"
      ]
    },
    {
      "cell_type": "code",
      "metadata": {
        "colab": {
          "base_uri": "https://localhost:8080/",
          "height": 235
        },
        "id": "lmd73b2JVSRE",
        "outputId": "c3acc43e-bb4f-40e2-de1e-bf0317b5d7c8"
      },
      "source": [
        "bankdata['d_balance'] = bankdata['balance'].diff()\n",
        "bankdata['d_aaa'] = bankdata['aaa'].diff()\n",
        "bankdata['d_mo_34'] = bankdata['mo_34'].diff()\n",
        "bankdata = bankdata.dropna()\n",
        "bankdata.head()"
      ],
      "execution_count": 26,
      "outputs": [
        {
          "output_type": "execute_result",
          "data": {
            "text/html": [
              "<div>\n",
              "<style scoped>\n",
              "    .dataframe tbody tr th:only-of-type {\n",
              "        vertical-align: middle;\n",
              "    }\n",
              "\n",
              "    .dataframe tbody tr th {\n",
              "        vertical-align: top;\n",
              "    }\n",
              "\n",
              "    .dataframe thead th {\n",
              "        text-align: right;\n",
              "    }\n",
              "</style>\n",
              "<table border=\"1\" class=\"dataframe\">\n",
              "  <thead>\n",
              "    <tr style=\"text-align: right;\">\n",
              "      <th></th>\n",
              "      <th>balance</th>\n",
              "      <th>aaa</th>\n",
              "      <th>mo_34</th>\n",
              "      <th>d_balance</th>\n",
              "      <th>d_aaa</th>\n",
              "      <th>d_mo_34</th>\n",
              "    </tr>\n",
              "    <tr>\n",
              "      <th>date</th>\n",
              "      <th></th>\n",
              "      <th></th>\n",
              "      <th></th>\n",
              "      <th></th>\n",
              "      <th></th>\n",
              "      <th></th>\n",
              "    </tr>\n",
              "  </thead>\n",
              "  <tbody>\n",
              "    <tr>\n",
              "      <th>2000-03-01</th>\n",
              "      <td>358774</td>\n",
              "      <td>6.08</td>\n",
              "      <td>5.49</td>\n",
              "      <td>-2443.0</td>\n",
              "      <td>0.08</td>\n",
              "      <td>-0.11</td>\n",
              "    </tr>\n",
              "    <tr>\n",
              "      <th>2000-04-01</th>\n",
              "      <td>360271</td>\n",
              "      <td>6.17</td>\n",
              "      <td>5.80</td>\n",
              "      <td>1497.0</td>\n",
              "      <td>0.09</td>\n",
              "      <td>0.31</td>\n",
              "    </tr>\n",
              "    <tr>\n",
              "      <th>2000-05-01</th>\n",
              "      <td>360139</td>\n",
              "      <td>6.14</td>\n",
              "      <td>5.61</td>\n",
              "      <td>-132.0</td>\n",
              "      <td>-0.03</td>\n",
              "      <td>-0.19</td>\n",
              "    </tr>\n",
              "    <tr>\n",
              "      <th>2000-06-01</th>\n",
              "      <td>362164</td>\n",
              "      <td>6.09</td>\n",
              "      <td>5.28</td>\n",
              "      <td>2025.0</td>\n",
              "      <td>-0.05</td>\n",
              "      <td>-0.33</td>\n",
              "    </tr>\n",
              "    <tr>\n",
              "      <th>2000-07-01</th>\n",
              "      <td>362901</td>\n",
              "      <td>5.87</td>\n",
              "      <td>5.19</td>\n",
              "      <td>737.0</td>\n",
              "      <td>-0.22</td>\n",
              "      <td>-0.09</td>\n",
              "    </tr>\n",
              "  </tbody>\n",
              "</table>\n",
              "</div>"
            ],
            "text/plain": [
              "            balance   aaa  mo_34  d_balance  d_aaa  d_mo_34\n",
              "date                                                       \n",
              "2000-03-01   358774  6.08   5.49    -2443.0   0.08    -0.11\n",
              "2000-04-01   360271  6.17   5.80     1497.0   0.09     0.31\n",
              "2000-05-01   360139  6.14   5.61     -132.0  -0.03    -0.19\n",
              "2000-06-01   362164  6.09   5.28     2025.0  -0.05    -0.33\n",
              "2000-07-01   362901  5.87   5.19      737.0  -0.22    -0.09"
            ]
          },
          "metadata": {
            "tags": []
          },
          "execution_count": 26
        }
      ]
    },
    {
      "cell_type": "markdown",
      "metadata": {
        "id": "DmXHwD9jspla"
      },
      "source": [
        "We'll next want to check that this data appears stationary. Plot `d_balance` by itself, and `d_aaa` and `d_mo_34` to make sure they are now stationary in the mean. "
      ]
    },
    {
      "cell_type": "code",
      "metadata": {
        "id": "Yjifq9ppspla"
      },
      "source": [
        "# YOUR CODE HERE\n"
      ],
      "execution_count": 27,
      "outputs": []
    },
    {
      "cell_type": "markdown",
      "metadata": {
        "id": "wQ8-CXK7XU37"
      },
      "source": [
        "# Regression with ARIMA errors\n",
        "\n",
        "We'll not attempt to fit a regression model to this data with ARIMA errors. We'll start with a simple `AR(1)` (`ARIMA(1,0,0)`) model for our regression errors. In the cell below, create an ARIMA model using `d_balance` as endog, and `d_aaa` and `d_mo_34` as exog, and set the appropriate value for `order`. Then fit the model (`model.fit()`) and print out the summary of the results. "
      ]
    },
    {
      "cell_type": "code",
      "metadata": {
        "id": "DWqocBQcW03L"
      },
      "source": [
        "# YOUR CODE HERE\n"
      ],
      "execution_count": 28,
      "outputs": []
    },
    {
      "cell_type": "markdown",
      "metadata": {
        "id": "d7qyIgQmabtg"
      },
      "source": [
        "If any of the variables in the fit above do not have significant weights (p-value > 0.05), drop those from the fit and rerun the fit."
      ]
    },
    {
      "cell_type": "markdown",
      "metadata": {
        "id": "r5-8aOsVXjJ-",
        "outputId": "788423b7-e7c8-4f50-83ea-598885dc7490"
      },
      "source": [
        "# Determining Appropriate ARIMA model for errors\n",
        "\n",
        "Now that we've carried out a regression, we want to check the residuals for any autoregressive patterns and update our choice of ARIMA model for the errors if necessary. Judigin from the value for Ljung-Box Q above, it appears that our residuals don't have any autocorrelation, but we can plot them, as well as their ACF and PACF to double check. In the cell below, plot the residuals with `display(plt.plot(results.resid))`, and then plot the ACF and PACF plots for `results.resid` (remember to set `zero=False`)."
      ]
    },
    {
      "cell_type": "code",
      "metadata": {
        "id": "Rg9G10JXaytB"
      },
      "source": [
        "# YOUR CODE HERE\n"
      ],
      "execution_count": 29,
      "outputs": []
    },
    {
      "cell_type": "markdown",
      "metadata": {
        "id": "TC-eVcaUcfXs"
      },
      "source": [
        "# Updating Preliminary ARIMA Model\n",
        "\n",
        "From the above, we see strong autocorrelations remain up through lag 3 in the PACF. It also appears that we a seasonal autoregressive pattern at lag 12 (with a repetition at 24). We'll update our ARIMA model for the errors to an:\n",
        "$$ARIMA(3,0,0)(2,0,0)_{12}$$\n",
        "\n",
        "In the cell below, create a new model, updating the value passed to `order` above, and additionally specifying the `seasonal_order` argument to be `(1,0,0,12)`"
      ]
    },
    {
      "cell_type": "code",
      "metadata": {
        "id": "9HQwEV8EaW72"
      },
      "source": [
        "# YOUR CODE HERE\n"
      ],
      "execution_count": 30,
      "outputs": []
    },
    {
      "cell_type": "markdown",
      "metadata": {
        "id": "43E1cq1Dc11r"
      },
      "source": [
        "Note the much larger p-value now for the Ljung-Box Q, indicating that there is very little autocorrelation remaining in the residuals. \n",
        "\n",
        "In the cell below, verify that the observed autocorrelation in the resoduals has been reduced, by plotting the ACF and PACF"
      ]
    },
    {
      "cell_type": "code",
      "metadata": {
        "id": "K1RJ7YI-splf"
      },
      "source": [
        "# YOUR CODE HERE\n"
      ],
      "execution_count": 31,
      "outputs": []
    }
  ]
}